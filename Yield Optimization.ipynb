{
 "cells": [
  {
   "cell_type": "code",
   "execution_count": 3,
   "id": "bfebf056",
   "metadata": {},
   "outputs": [],
   "source": [
    "import pandas as pd\n",
    "import numpy as np\n",
    "from sklearn.model_selection import train_test_split\n",
    "import warnings\n",
    "warnings.filterwarnings(action=\"ignore\")"
   ]
  },
  {
   "cell_type": "code",
   "execution_count": 4,
   "id": "a1f2d5d1",
   "metadata": {},
   "outputs": [
    {
     "data": {
      "text/html": [
       "<div>\n",
       "<style scoped>\n",
       "    .dataframe tbody tr th:only-of-type {\n",
       "        vertical-align: middle;\n",
       "    }\n",
       "\n",
       "    .dataframe tbody tr th {\n",
       "        vertical-align: top;\n",
       "    }\n",
       "\n",
       "    .dataframe thead th {\n",
       "        text-align: right;\n",
       "    }\n",
       "</style>\n",
       "<table border=\"1\" class=\"dataframe\">\n",
       "  <thead>\n",
       "    <tr style=\"text-align: right;\">\n",
       "      <th></th>\n",
       "      <th>X1</th>\n",
       "      <th>X2</th>\n",
       "      <th>X3</th>\n",
       "      <th>X4</th>\n",
       "      <th>Y</th>\n",
       "    </tr>\n",
       "  </thead>\n",
       "  <tbody>\n",
       "    <tr>\n",
       "      <th>0</th>\n",
       "      <td>80</td>\n",
       "      <td>3</td>\n",
       "      <td>60</td>\n",
       "      <td>10.5</td>\n",
       "      <td>73.07</td>\n",
       "    </tr>\n",
       "    <tr>\n",
       "      <th>1</th>\n",
       "      <td>60</td>\n",
       "      <td>3</td>\n",
       "      <td>60</td>\n",
       "      <td>15.0</td>\n",
       "      <td>69.27</td>\n",
       "    </tr>\n",
       "    <tr>\n",
       "      <th>2</th>\n",
       "      <td>60</td>\n",
       "      <td>5</td>\n",
       "      <td>105</td>\n",
       "      <td>6.0</td>\n",
       "      <td>87.98</td>\n",
       "    </tr>\n",
       "    <tr>\n",
       "      <th>3</th>\n",
       "      <td>60</td>\n",
       "      <td>3</td>\n",
       "      <td>105</td>\n",
       "      <td>10.5</td>\n",
       "      <td>82.16</td>\n",
       "    </tr>\n",
       "    <tr>\n",
       "      <th>4</th>\n",
       "      <td>60</td>\n",
       "      <td>5</td>\n",
       "      <td>60</td>\n",
       "      <td>10.5</td>\n",
       "      <td>65.92</td>\n",
       "    </tr>\n",
       "    <tr>\n",
       "      <th>5</th>\n",
       "      <td>80</td>\n",
       "      <td>5</td>\n",
       "      <td>105</td>\n",
       "      <td>10.5</td>\n",
       "      <td>74.78</td>\n",
       "    </tr>\n",
       "    <tr>\n",
       "      <th>6</th>\n",
       "      <td>60</td>\n",
       "      <td>3</td>\n",
       "      <td>105</td>\n",
       "      <td>10.5</td>\n",
       "      <td>82.99</td>\n",
       "    </tr>\n",
       "    <tr>\n",
       "      <th>7</th>\n",
       "      <td>60</td>\n",
       "      <td>3</td>\n",
       "      <td>105</td>\n",
       "      <td>10.5</td>\n",
       "      <td>84.19</td>\n",
       "    </tr>\n",
       "    <tr>\n",
       "      <th>8</th>\n",
       "      <td>40</td>\n",
       "      <td>3</td>\n",
       "      <td>60</td>\n",
       "      <td>10.5</td>\n",
       "      <td>72.66</td>\n",
       "    </tr>\n",
       "    <tr>\n",
       "      <th>9</th>\n",
       "      <td>40</td>\n",
       "      <td>3</td>\n",
       "      <td>150</td>\n",
       "      <td>10.5</td>\n",
       "      <td>81.12</td>\n",
       "    </tr>\n",
       "    <tr>\n",
       "      <th>10</th>\n",
       "      <td>60</td>\n",
       "      <td>1</td>\n",
       "      <td>105</td>\n",
       "      <td>6.0</td>\n",
       "      <td>92.77</td>\n",
       "    </tr>\n",
       "    <tr>\n",
       "      <th>11</th>\n",
       "      <td>60</td>\n",
       "      <td>3</td>\n",
       "      <td>60</td>\n",
       "      <td>6.0</td>\n",
       "      <td>89.98</td>\n",
       "    </tr>\n",
       "    <tr>\n",
       "      <th>12</th>\n",
       "      <td>60</td>\n",
       "      <td>3</td>\n",
       "      <td>150</td>\n",
       "      <td>15.0</td>\n",
       "      <td>82.26</td>\n",
       "    </tr>\n",
       "    <tr>\n",
       "      <th>13</th>\n",
       "      <td>80</td>\n",
       "      <td>3</td>\n",
       "      <td>150</td>\n",
       "      <td>10.5</td>\n",
       "      <td>89.04</td>\n",
       "    </tr>\n",
       "    <tr>\n",
       "      <th>14</th>\n",
       "      <td>60</td>\n",
       "      <td>3</td>\n",
       "      <td>105</td>\n",
       "      <td>10.5</td>\n",
       "      <td>82.86</td>\n",
       "    </tr>\n",
       "    <tr>\n",
       "      <th>15</th>\n",
       "      <td>60</td>\n",
       "      <td>3</td>\n",
       "      <td>150</td>\n",
       "      <td>6.0</td>\n",
       "      <td>96.24</td>\n",
       "    </tr>\n",
       "    <tr>\n",
       "      <th>16</th>\n",
       "      <td>60</td>\n",
       "      <td>5</td>\n",
       "      <td>150</td>\n",
       "      <td>10.5</td>\n",
       "      <td>77.93</td>\n",
       "    </tr>\n",
       "    <tr>\n",
       "      <th>17</th>\n",
       "      <td>60</td>\n",
       "      <td>5</td>\n",
       "      <td>105</td>\n",
       "      <td>15.0</td>\n",
       "      <td>61.85</td>\n",
       "    </tr>\n",
       "    <tr>\n",
       "      <th>18</th>\n",
       "      <td>60</td>\n",
       "      <td>1</td>\n",
       "      <td>105</td>\n",
       "      <td>15.0</td>\n",
       "      <td>85.10</td>\n",
       "    </tr>\n",
       "    <tr>\n",
       "      <th>19</th>\n",
       "      <td>80</td>\n",
       "      <td>3</td>\n",
       "      <td>105</td>\n",
       "      <td>15.0</td>\n",
       "      <td>76.99</td>\n",
       "    </tr>\n",
       "    <tr>\n",
       "      <th>20</th>\n",
       "      <td>40</td>\n",
       "      <td>3</td>\n",
       "      <td>105</td>\n",
       "      <td>6.0</td>\n",
       "      <td>91.35</td>\n",
       "    </tr>\n",
       "    <tr>\n",
       "      <th>21</th>\n",
       "      <td>60</td>\n",
       "      <td>1</td>\n",
       "      <td>150</td>\n",
       "      <td>10.5</td>\n",
       "      <td>89.29</td>\n",
       "    </tr>\n",
       "    <tr>\n",
       "      <th>22</th>\n",
       "      <td>80</td>\n",
       "      <td>1</td>\n",
       "      <td>105</td>\n",
       "      <td>10.5</td>\n",
       "      <td>81.92</td>\n",
       "    </tr>\n",
       "    <tr>\n",
       "      <th>23</th>\n",
       "      <td>40</td>\n",
       "      <td>3</td>\n",
       "      <td>105</td>\n",
       "      <td>15.0</td>\n",
       "      <td>69.96</td>\n",
       "    </tr>\n",
       "    <tr>\n",
       "      <th>24</th>\n",
       "      <td>80</td>\n",
       "      <td>3</td>\n",
       "      <td>105</td>\n",
       "      <td>6.0</td>\n",
       "      <td>90.29</td>\n",
       "    </tr>\n",
       "    <tr>\n",
       "      <th>25</th>\n",
       "      <td>60</td>\n",
       "      <td>1</td>\n",
       "      <td>60</td>\n",
       "      <td>10.5</td>\n",
       "      <td>82.96</td>\n",
       "    </tr>\n",
       "    <tr>\n",
       "      <th>26</th>\n",
       "      <td>60</td>\n",
       "      <td>3</td>\n",
       "      <td>105</td>\n",
       "      <td>10.5</td>\n",
       "      <td>89.56</td>\n",
       "    </tr>\n",
       "    <tr>\n",
       "      <th>27</th>\n",
       "      <td>40</td>\n",
       "      <td>5</td>\n",
       "      <td>105</td>\n",
       "      <td>10.5</td>\n",
       "      <td>69.01</td>\n",
       "    </tr>\n",
       "    <tr>\n",
       "      <th>28</th>\n",
       "      <td>40</td>\n",
       "      <td>1</td>\n",
       "      <td>105</td>\n",
       "      <td>10.5</td>\n",
       "      <td>84.53</td>\n",
       "    </tr>\n",
       "  </tbody>\n",
       "</table>\n",
       "</div>"
      ],
      "text/plain": [
       "    X1  X2   X3    X4      Y\n",
       "0   80   3   60  10.5  73.07\n",
       "1   60   3   60  15.0  69.27\n",
       "2   60   5  105   6.0  87.98\n",
       "3   60   3  105  10.5  82.16\n",
       "4   60   5   60  10.5  65.92\n",
       "5   80   5  105  10.5  74.78\n",
       "6   60   3  105  10.5  82.99\n",
       "7   60   3  105  10.5  84.19\n",
       "8   40   3   60  10.5  72.66\n",
       "9   40   3  150  10.5  81.12\n",
       "10  60   1  105   6.0  92.77\n",
       "11  60   3   60   6.0  89.98\n",
       "12  60   3  150  15.0  82.26\n",
       "13  80   3  150  10.5  89.04\n",
       "14  60   3  105  10.5  82.86\n",
       "15  60   3  150   6.0  96.24\n",
       "16  60   5  150  10.5  77.93\n",
       "17  60   5  105  15.0  61.85\n",
       "18  60   1  105  15.0  85.10\n",
       "19  80   3  105  15.0  76.99\n",
       "20  40   3  105   6.0  91.35\n",
       "21  60   1  150  10.5  89.29\n",
       "22  80   1  105  10.5  81.92\n",
       "23  40   3  105  15.0  69.96\n",
       "24  80   3  105   6.0  90.29\n",
       "25  60   1   60  10.5  82.96\n",
       "26  60   3  105  10.5  89.56\n",
       "27  40   5  105  10.5  69.01\n",
       "28  40   1  105  10.5  84.53"
      ]
     },
     "execution_count": 4,
     "metadata": {},
     "output_type": "execute_result"
    }
   ],
   "source": [
    "df=pd.read_excel(r\"C:\\Users\\USER\\Desktop\\Biodiesel Yield\\data 2.xlsx\")\n",
    "df"
   ]
  },
  {
   "cell_type": "code",
   "execution_count": 5,
   "id": "05ef9cd8",
   "metadata": {},
   "outputs": [
    {
     "data": {
      "text/plain": [
       "X1     80.00\n",
       "X2      5.00\n",
       "X3    150.00\n",
       "X4     15.00\n",
       "Y      96.24\n",
       "dtype: float64"
      ]
     },
     "execution_count": 5,
     "metadata": {},
     "output_type": "execute_result"
    }
   ],
   "source": [
    "df.max()"
   ]
  },
  {
   "cell_type": "code",
   "execution_count": 6,
   "id": "1664eb07",
   "metadata": {},
   "outputs": [],
   "source": [
    "X = df[['X1', 'X2', 'X3', 'X4']]\n",
    "y = df['Y']"
   ]
  },
  {
   "cell_type": "code",
   "execution_count": 8,
   "id": "29cc96aa",
   "metadata": {},
   "outputs": [],
   "source": [
    "# Split the data into training and testing sets\n",
    "X_train, X_test, y_train, y_test = train_test_split(X, y, test_size=0.2, random_state=2)"
   ]
  },
  {
   "cell_type": "code",
   "execution_count": 9,
   "id": "3914c70b",
   "metadata": {},
   "outputs": [],
   "source": [
    "from sklearn.metrics import mean_squared_error\n",
    "from mealpy.evolutionary_based.GA import BaseGA, MultiGA, EliteSingleGA, SingleGA\n",
    "from mealpy.utils.problem import Problem"
   ]
  },
  {
   "cell_type": "code",
   "execution_count": 10,
   "id": "bb0409f5",
   "metadata": {},
   "outputs": [
    {
     "data": {
      "text/html": [
       "<style>#sk-container-id-1 {color: black;}#sk-container-id-1 pre{padding: 0;}#sk-container-id-1 div.sk-toggleable {background-color: white;}#sk-container-id-1 label.sk-toggleable__label {cursor: pointer;display: block;width: 100%;margin-bottom: 0;padding: 0.3em;box-sizing: border-box;text-align: center;}#sk-container-id-1 label.sk-toggleable__label-arrow:before {content: \"▸\";float: left;margin-right: 0.25em;color: #696969;}#sk-container-id-1 label.sk-toggleable__label-arrow:hover:before {color: black;}#sk-container-id-1 div.sk-estimator:hover label.sk-toggleable__label-arrow:before {color: black;}#sk-container-id-1 div.sk-toggleable__content {max-height: 0;max-width: 0;overflow: hidden;text-align: left;background-color: #f0f8ff;}#sk-container-id-1 div.sk-toggleable__content pre {margin: 0.2em;color: black;border-radius: 0.25em;background-color: #f0f8ff;}#sk-container-id-1 input.sk-toggleable__control:checked~div.sk-toggleable__content {max-height: 200px;max-width: 100%;overflow: auto;}#sk-container-id-1 input.sk-toggleable__control:checked~label.sk-toggleable__label-arrow:before {content: \"▾\";}#sk-container-id-1 div.sk-estimator input.sk-toggleable__control:checked~label.sk-toggleable__label {background-color: #d4ebff;}#sk-container-id-1 div.sk-label input.sk-toggleable__control:checked~label.sk-toggleable__label {background-color: #d4ebff;}#sk-container-id-1 input.sk-hidden--visually {border: 0;clip: rect(1px 1px 1px 1px);clip: rect(1px, 1px, 1px, 1px);height: 1px;margin: -1px;overflow: hidden;padding: 0;position: absolute;width: 1px;}#sk-container-id-1 div.sk-estimator {font-family: monospace;background-color: #f0f8ff;border: 1px dotted black;border-radius: 0.25em;box-sizing: border-box;margin-bottom: 0.5em;}#sk-container-id-1 div.sk-estimator:hover {background-color: #d4ebff;}#sk-container-id-1 div.sk-parallel-item::after {content: \"\";width: 100%;border-bottom: 1px solid gray;flex-grow: 1;}#sk-container-id-1 div.sk-label:hover label.sk-toggleable__label {background-color: #d4ebff;}#sk-container-id-1 div.sk-serial::before {content: \"\";position: absolute;border-left: 1px solid gray;box-sizing: border-box;top: 0;bottom: 0;left: 50%;z-index: 0;}#sk-container-id-1 div.sk-serial {display: flex;flex-direction: column;align-items: center;background-color: white;padding-right: 0.2em;padding-left: 0.2em;position: relative;}#sk-container-id-1 div.sk-item {position: relative;z-index: 1;}#sk-container-id-1 div.sk-parallel {display: flex;align-items: stretch;justify-content: center;background-color: white;position: relative;}#sk-container-id-1 div.sk-item::before, #sk-container-id-1 div.sk-parallel-item::before {content: \"\";position: absolute;border-left: 1px solid gray;box-sizing: border-box;top: 0;bottom: 0;left: 50%;z-index: -1;}#sk-container-id-1 div.sk-parallel-item {display: flex;flex-direction: column;z-index: 1;position: relative;background-color: white;}#sk-container-id-1 div.sk-parallel-item:first-child::after {align-self: flex-end;width: 50%;}#sk-container-id-1 div.sk-parallel-item:last-child::after {align-self: flex-start;width: 50%;}#sk-container-id-1 div.sk-parallel-item:only-child::after {width: 0;}#sk-container-id-1 div.sk-dashed-wrapped {border: 1px dashed gray;margin: 0 0.4em 0.5em 0.4em;box-sizing: border-box;padding-bottom: 0.4em;background-color: white;}#sk-container-id-1 div.sk-label label {font-family: monospace;font-weight: bold;display: inline-block;line-height: 1.2em;}#sk-container-id-1 div.sk-label-container {text-align: center;}#sk-container-id-1 div.sk-container {/* jupyter's `normalize.less` sets `[hidden] { display: none; }` but bootstrap.min.css set `[hidden] { display: none !important; }` so we also need the `!important` here to be able to override the default hidden behavior on the sphinx rendered scikit-learn.org. See: https://github.com/scikit-learn/scikit-learn/issues/21755 */display: inline-block !important;position: relative;}#sk-container-id-1 div.sk-text-repr-fallback {display: none;}</style><div id=\"sk-container-id-1\" class=\"sk-top-container\"><div class=\"sk-text-repr-fallback\"><pre>KernelRidge(alpha=0.01, gamma=0.0657933224657568, kernel=&#x27;poly&#x27;)</pre><b>In a Jupyter environment, please rerun this cell to show the HTML representation or trust the notebook. <br />On GitHub, the HTML representation is unable to render, please try loading this page with nbviewer.org.</b></div><div class=\"sk-container\" hidden><div class=\"sk-item\"><div class=\"sk-estimator sk-toggleable\"><input class=\"sk-toggleable__control sk-hidden--visually\" id=\"sk-estimator-id-1\" type=\"checkbox\" checked><label for=\"sk-estimator-id-1\" class=\"sk-toggleable__label sk-toggleable__label-arrow\">KernelRidge</label><div class=\"sk-toggleable__content\"><pre>KernelRidge(alpha=0.01, gamma=0.0657933224657568, kernel=&#x27;poly&#x27;)</pre></div></div></div></div></div>"
      ],
      "text/plain": [
       "KernelRidge(alpha=0.01, gamma=0.0657933224657568, kernel='poly')"
      ]
     },
     "execution_count": 10,
     "metadata": {},
     "output_type": "execute_result"
    }
   ],
   "source": [
    "from sklearn.kernel_ridge import KernelRidge\n",
    "model_full= KernelRidge(alpha=0.01, kernel=\"poly\", gamma=0.0657933224657568)\n",
    "model_full.fit(X, y)"
   ]
  },
  {
   "cell_type": "code",
   "execution_count": 11,
   "id": "16aec20b",
   "metadata": {},
   "outputs": [],
   "source": [
    "# Create a function to be optimized by the  algorithms\n",
    "def obj_fun(X):\n",
    "    results = model_full.predict(np.array(X).reshape(1, -1)) # Reshape X to have one sample and as many features as needed\n",
    "    return -results  # Negative to maximize the prediction (Yield)"
   ]
  },
  {
   "cell_type": "code",
   "execution_count": 12,
   "id": "11189ca4",
   "metadata": {},
   "outputs": [],
   "source": [
    "problem_dict1 = {\n",
    "    \"fit_func\": obj_fun,\n",
    "    \"lb\": [df['X1'].min(), df['X2'].min(),df['X3'].min(), df['X4'].min()],\n",
    "    \"ub\": [df['X1'].max(), df['X2'].max(),df['X3'].max(), df['X4'].max()],\n",
    "    \"minmax\": \"min\",\n",
    "}"
   ]
  },
  {
   "cell_type": "markdown",
   "id": "f747b43e",
   "metadata": {},
   "source": [
    "## GA"
   ]
  },
  {
   "cell_type": "code",
   "execution_count": 13,
   "id": "e635c1da",
   "metadata": {},
   "outputs": [],
   "source": [
    "epoch = 100\n",
    "pop_size = 50\n",
    "pc = 0.90\n",
    "pm = 0.05"
   ]
  },
  {
   "cell_type": "code",
   "execution_count": 14,
   "id": "522da707",
   "metadata": {},
   "outputs": [],
   "source": [
    "model = BaseGA(epoch, pop_size, pc, pm)"
   ]
  },
  {
   "cell_type": "code",
   "execution_count": 15,
   "id": "21a7f165",
   "metadata": {},
   "outputs": [
    {
     "name": "stderr",
     "output_type": "stream",
     "text": [
      "2023/07/31 12:51:27 PM, INFO, mealpy.evolutionary_based.GA.BaseGA: Solving single objective optimization problem.\n",
      "2023/07/31 12:51:27 PM, INFO, mealpy.evolutionary_based.GA.BaseGA: >Problem: P, Epoch: 1, Current best: -93.45921325683594, Global best: -93.45921325683594, Runtime: 0.07250 seconds\n",
      "2023/07/31 12:51:27 PM, INFO, mealpy.evolutionary_based.GA.BaseGA: >Problem: P, Epoch: 2, Current best: -93.86491394042969, Global best: -93.86491394042969, Runtime: 0.06855 seconds\n",
      "2023/07/31 12:51:27 PM, INFO, mealpy.evolutionary_based.GA.BaseGA: >Problem: P, Epoch: 3, Current best: -94.10262680053711, Global best: -94.10262680053711, Runtime: 0.08238 seconds\n",
      "2023/07/31 12:51:27 PM, INFO, mealpy.evolutionary_based.GA.BaseGA: >Problem: P, Epoch: 4, Current best: -94.15371704101562, Global best: -94.15371704101562, Runtime: 0.06855 seconds\n",
      "2023/07/31 12:51:28 PM, INFO, mealpy.evolutionary_based.GA.BaseGA: >Problem: P, Epoch: 5, Current best: -94.97409057617188, Global best: -94.97409057617188, Runtime: 0.07473 seconds\n",
      "2023/07/31 12:51:28 PM, INFO, mealpy.evolutionary_based.GA.BaseGA: >Problem: P, Epoch: 6, Current best: -94.97409057617188, Global best: -94.97409057617188, Runtime: 0.08582 seconds\n",
      "2023/07/31 12:51:28 PM, INFO, mealpy.evolutionary_based.GA.BaseGA: >Problem: P, Epoch: 7, Current best: -94.97409057617188, Global best: -94.97409057617188, Runtime: 0.08048 seconds\n",
      "2023/07/31 12:51:28 PM, INFO, mealpy.evolutionary_based.GA.BaseGA: >Problem: P, Epoch: 8, Current best: -95.72049713134766, Global best: -95.72049713134766, Runtime: 0.07277 seconds\n",
      "2023/07/31 12:51:28 PM, INFO, mealpy.evolutionary_based.GA.BaseGA: >Problem: P, Epoch: 9, Current best: -95.72049713134766, Global best: -95.72049713134766, Runtime: 0.08793 seconds\n",
      "2023/07/31 12:51:28 PM, INFO, mealpy.evolutionary_based.GA.BaseGA: >Problem: P, Epoch: 10, Current best: -96.52193450927734, Global best: -96.52193450927734, Runtime: 0.07089 seconds\n",
      "2023/07/31 12:51:28 PM, INFO, mealpy.evolutionary_based.GA.BaseGA: >Problem: P, Epoch: 11, Current best: -96.52193450927734, Global best: -96.52193450927734, Runtime: 0.07054 seconds\n",
      "2023/07/31 12:51:28 PM, INFO, mealpy.evolutionary_based.GA.BaseGA: >Problem: P, Epoch: 12, Current best: -96.52193450927734, Global best: -96.52193450927734, Runtime: 0.08613 seconds\n",
      "2023/07/31 12:51:28 PM, INFO, mealpy.evolutionary_based.GA.BaseGA: >Problem: P, Epoch: 13, Current best: -96.52193450927734, Global best: -96.52193450927734, Runtime: 0.08486 seconds\n",
      "2023/07/31 12:51:28 PM, INFO, mealpy.evolutionary_based.GA.BaseGA: >Problem: P, Epoch: 14, Current best: -96.73492431640625, Global best: -96.73492431640625, Runtime: 0.07103 seconds\n",
      "2023/07/31 12:51:28 PM, INFO, mealpy.evolutionary_based.GA.BaseGA: >Problem: P, Epoch: 15, Current best: -97.60317993164062, Global best: -97.60317993164062, Runtime: 0.08352 seconds\n",
      "2023/07/31 12:51:28 PM, INFO, mealpy.evolutionary_based.GA.BaseGA: >Problem: P, Epoch: 16, Current best: -97.60317993164062, Global best: -97.60317993164062, Runtime: 0.09313 seconds\n",
      "2023/07/31 12:51:29 PM, INFO, mealpy.evolutionary_based.GA.BaseGA: >Problem: P, Epoch: 17, Current best: -98.43489074707031, Global best: -98.43489074707031, Runtime: 0.08004 seconds\n",
      "2023/07/31 12:51:29 PM, INFO, mealpy.evolutionary_based.GA.BaseGA: >Problem: P, Epoch: 18, Current best: -99.1497802734375, Global best: -99.1497802734375, Runtime: 0.07960 seconds\n",
      "2023/07/31 12:51:29 PM, INFO, mealpy.evolutionary_based.GA.BaseGA: >Problem: P, Epoch: 19, Current best: -99.1497802734375, Global best: -99.1497802734375, Runtime: 0.08303 seconds\n",
      "2023/07/31 12:51:29 PM, INFO, mealpy.evolutionary_based.GA.BaseGA: >Problem: P, Epoch: 20, Current best: -99.1497802734375, Global best: -99.1497802734375, Runtime: 0.10117 seconds\n",
      "2023/07/31 12:51:29 PM, INFO, mealpy.evolutionary_based.GA.BaseGA: >Problem: P, Epoch: 21, Current best: -99.43820190429688, Global best: -99.43820190429688, Runtime: 0.11326 seconds\n",
      "2023/07/31 12:51:29 PM, INFO, mealpy.evolutionary_based.GA.BaseGA: >Problem: P, Epoch: 22, Current best: -99.43820190429688, Global best: -99.43820190429688, Runtime: 0.09242 seconds\n",
      "2023/07/31 12:51:29 PM, INFO, mealpy.evolutionary_based.GA.BaseGA: >Problem: P, Epoch: 23, Current best: -99.43820190429688, Global best: -99.43820190429688, Runtime: 0.07524 seconds\n",
      "2023/07/31 12:51:29 PM, INFO, mealpy.evolutionary_based.GA.BaseGA: >Problem: P, Epoch: 24, Current best: -99.43820190429688, Global best: -99.43820190429688, Runtime: 0.07626 seconds\n",
      "2023/07/31 12:51:29 PM, INFO, mealpy.evolutionary_based.GA.BaseGA: >Problem: P, Epoch: 25, Current best: -99.43820190429688, Global best: -99.43820190429688, Runtime: 0.06963 seconds\n",
      "2023/07/31 12:51:29 PM, INFO, mealpy.evolutionary_based.GA.BaseGA: >Problem: P, Epoch: 26, Current best: -99.43820190429688, Global best: -99.43820190429688, Runtime: 0.09043 seconds\n",
      "2023/07/31 12:51:29 PM, INFO, mealpy.evolutionary_based.GA.BaseGA: >Problem: P, Epoch: 27, Current best: -99.43820190429688, Global best: -99.43820190429688, Runtime: 0.10099 seconds\n",
      "2023/07/31 12:51:30 PM, INFO, mealpy.evolutionary_based.GA.BaseGA: >Problem: P, Epoch: 28, Current best: -99.43820190429688, Global best: -99.43820190429688, Runtime: 0.09554 seconds\n",
      "2023/07/31 12:51:30 PM, INFO, mealpy.evolutionary_based.GA.BaseGA: >Problem: P, Epoch: 29, Current best: -99.43820190429688, Global best: -99.43820190429688, Runtime: 0.07063 seconds\n",
      "2023/07/31 12:51:30 PM, INFO, mealpy.evolutionary_based.GA.BaseGA: >Problem: P, Epoch: 30, Current best: -99.66905975341797, Global best: -99.66905975341797, Runtime: 0.07008 seconds\n",
      "2023/07/31 12:51:30 PM, INFO, mealpy.evolutionary_based.GA.BaseGA: >Problem: P, Epoch: 31, Current best: -99.66905975341797, Global best: -99.66905975341797, Runtime: 0.08545 seconds\n",
      "2023/07/31 12:51:30 PM, INFO, mealpy.evolutionary_based.GA.BaseGA: >Problem: P, Epoch: 32, Current best: -99.66905975341797, Global best: -99.66905975341797, Runtime: 0.07557 seconds\n",
      "2023/07/31 12:51:30 PM, INFO, mealpy.evolutionary_based.GA.BaseGA: >Problem: P, Epoch: 33, Current best: -99.67717742919922, Global best: -99.67717742919922, Runtime: 0.06642 seconds\n",
      "2023/07/31 12:51:30 PM, INFO, mealpy.evolutionary_based.GA.BaseGA: >Problem: P, Epoch: 34, Current best: -99.67717742919922, Global best: -99.67717742919922, Runtime: 0.08433 seconds\n",
      "2023/07/31 12:51:30 PM, INFO, mealpy.evolutionary_based.GA.BaseGA: >Problem: P, Epoch: 35, Current best: -99.67717742919922, Global best: -99.67717742919922, Runtime: 0.07846 seconds\n",
      "2023/07/31 12:51:30 PM, INFO, mealpy.evolutionary_based.GA.BaseGA: >Problem: P, Epoch: 36, Current best: -99.67717742919922, Global best: -99.67717742919922, Runtime: 0.06491 seconds\n",
      "2023/07/31 12:51:30 PM, INFO, mealpy.evolutionary_based.GA.BaseGA: >Problem: P, Epoch: 37, Current best: -99.67717742919922, Global best: -99.67717742919922, Runtime: 0.07728 seconds\n",
      "2023/07/31 12:51:30 PM, INFO, mealpy.evolutionary_based.GA.BaseGA: >Problem: P, Epoch: 38, Current best: -99.67717742919922, Global best: -99.67717742919922, Runtime: 0.06538 seconds\n",
      "2023/07/31 12:51:30 PM, INFO, mealpy.evolutionary_based.GA.BaseGA: >Problem: P, Epoch: 39, Current best: -99.67717742919922, Global best: -99.67717742919922, Runtime: 0.06596 seconds\n",
      "2023/07/31 12:51:31 PM, INFO, mealpy.evolutionary_based.GA.BaseGA: >Problem: P, Epoch: 40, Current best: -99.67717742919922, Global best: -99.67717742919922, Runtime: 0.06689 seconds\n",
      "2023/07/31 12:51:31 PM, INFO, mealpy.evolutionary_based.GA.BaseGA: >Problem: P, Epoch: 41, Current best: -99.67717742919922, Global best: -99.67717742919922, Runtime: 0.07094 seconds\n",
      "2023/07/31 12:51:31 PM, INFO, mealpy.evolutionary_based.GA.BaseGA: >Problem: P, Epoch: 42, Current best: -99.67717742919922, Global best: -99.67717742919922, Runtime: 0.06569 seconds\n",
      "2023/07/31 12:51:31 PM, INFO, mealpy.evolutionary_based.GA.BaseGA: >Problem: P, Epoch: 43, Current best: -99.67717742919922, Global best: -99.67717742919922, Runtime: 0.06548 seconds\n",
      "2023/07/31 12:51:31 PM, INFO, mealpy.evolutionary_based.GA.BaseGA: >Problem: P, Epoch: 44, Current best: -99.67717742919922, Global best: -99.67717742919922, Runtime: 0.06848 seconds\n",
      "2023/07/31 12:51:31 PM, INFO, mealpy.evolutionary_based.GA.BaseGA: >Problem: P, Epoch: 45, Current best: -99.8105239868164, Global best: -99.8105239868164, Runtime: 0.06816 seconds\n"
     ]
    },
    {
     "name": "stderr",
     "output_type": "stream",
     "text": [
      "2023/07/31 12:51:31 PM, INFO, mealpy.evolutionary_based.GA.BaseGA: >Problem: P, Epoch: 46, Current best: -99.8105239868164, Global best: -99.8105239868164, Runtime: 0.06386 seconds\n",
      "2023/07/31 12:51:31 PM, INFO, mealpy.evolutionary_based.GA.BaseGA: >Problem: P, Epoch: 47, Current best: -99.8105239868164, Global best: -99.8105239868164, Runtime: 0.06450 seconds\n",
      "2023/07/31 12:51:31 PM, INFO, mealpy.evolutionary_based.GA.BaseGA: >Problem: P, Epoch: 48, Current best: -99.8105239868164, Global best: -99.8105239868164, Runtime: 0.06715 seconds\n",
      "2023/07/31 12:51:31 PM, INFO, mealpy.evolutionary_based.GA.BaseGA: >Problem: P, Epoch: 49, Current best: -99.8105239868164, Global best: -99.8105239868164, Runtime: 0.06682 seconds\n",
      "2023/07/31 12:51:31 PM, INFO, mealpy.evolutionary_based.GA.BaseGA: >Problem: P, Epoch: 50, Current best: -99.8105239868164, Global best: -99.8105239868164, Runtime: 0.06563 seconds\n",
      "2023/07/31 12:51:31 PM, INFO, mealpy.evolutionary_based.GA.BaseGA: >Problem: P, Epoch: 51, Current best: -100.07426452636719, Global best: -100.07426452636719, Runtime: 0.06726 seconds\n",
      "2023/07/31 12:51:31 PM, INFO, mealpy.evolutionary_based.GA.BaseGA: >Problem: P, Epoch: 52, Current best: -100.07426452636719, Global best: -100.07426452636719, Runtime: 0.06659 seconds\n",
      "2023/07/31 12:51:31 PM, INFO, mealpy.evolutionary_based.GA.BaseGA: >Problem: P, Epoch: 53, Current best: -100.07426452636719, Global best: -100.07426452636719, Runtime: 0.06715 seconds\n",
      "2023/07/31 12:51:31 PM, INFO, mealpy.evolutionary_based.GA.BaseGA: >Problem: P, Epoch: 54, Current best: -100.07426452636719, Global best: -100.07426452636719, Runtime: 0.06527 seconds\n",
      "2023/07/31 12:51:32 PM, INFO, mealpy.evolutionary_based.GA.BaseGA: >Problem: P, Epoch: 55, Current best: -100.07426452636719, Global best: -100.07426452636719, Runtime: 0.06590 seconds\n",
      "2023/07/31 12:51:32 PM, INFO, mealpy.evolutionary_based.GA.BaseGA: >Problem: P, Epoch: 56, Current best: -100.07426452636719, Global best: -100.07426452636719, Runtime: 0.06323 seconds\n",
      "2023/07/31 12:51:32 PM, INFO, mealpy.evolutionary_based.GA.BaseGA: >Problem: P, Epoch: 57, Current best: -100.07426452636719, Global best: -100.07426452636719, Runtime: 0.06922 seconds\n",
      "2023/07/31 12:51:32 PM, INFO, mealpy.evolutionary_based.GA.BaseGA: >Problem: P, Epoch: 58, Current best: -100.07426452636719, Global best: -100.07426452636719, Runtime: 0.06698 seconds\n",
      "2023/07/31 12:51:32 PM, INFO, mealpy.evolutionary_based.GA.BaseGA: >Problem: P, Epoch: 59, Current best: -100.07426452636719, Global best: -100.07426452636719, Runtime: 0.06828 seconds\n",
      "2023/07/31 12:51:32 PM, INFO, mealpy.evolutionary_based.GA.BaseGA: >Problem: P, Epoch: 60, Current best: -100.07426452636719, Global best: -100.07426452636719, Runtime: 0.06438 seconds\n",
      "2023/07/31 12:51:32 PM, INFO, mealpy.evolutionary_based.GA.BaseGA: >Problem: P, Epoch: 61, Current best: -100.11170196533203, Global best: -100.11170196533203, Runtime: 0.06968 seconds\n",
      "2023/07/31 12:51:32 PM, INFO, mealpy.evolutionary_based.GA.BaseGA: >Problem: P, Epoch: 62, Current best: -100.11170196533203, Global best: -100.11170196533203, Runtime: 0.06491 seconds\n",
      "2023/07/31 12:51:32 PM, INFO, mealpy.evolutionary_based.GA.BaseGA: >Problem: P, Epoch: 63, Current best: -100.11170196533203, Global best: -100.11170196533203, Runtime: 0.06676 seconds\n",
      "2023/07/31 12:51:32 PM, INFO, mealpy.evolutionary_based.GA.BaseGA: >Problem: P, Epoch: 64, Current best: -100.11170196533203, Global best: -100.11170196533203, Runtime: 0.06951 seconds\n",
      "2023/07/31 12:51:32 PM, INFO, mealpy.evolutionary_based.GA.BaseGA: >Problem: P, Epoch: 65, Current best: -100.11170196533203, Global best: -100.11170196533203, Runtime: 0.06786 seconds\n",
      "2023/07/31 12:51:32 PM, INFO, mealpy.evolutionary_based.GA.BaseGA: >Problem: P, Epoch: 66, Current best: -100.11170196533203, Global best: -100.11170196533203, Runtime: 0.06362 seconds\n",
      "2023/07/31 12:51:32 PM, INFO, mealpy.evolutionary_based.GA.BaseGA: >Problem: P, Epoch: 67, Current best: -100.11170196533203, Global best: -100.11170196533203, Runtime: 0.06685 seconds\n",
      "2023/07/31 12:51:32 PM, INFO, mealpy.evolutionary_based.GA.BaseGA: >Problem: P, Epoch: 68, Current best: -100.11170196533203, Global best: -100.11170196533203, Runtime: 0.06866 seconds\n",
      "2023/07/31 12:51:33 PM, INFO, mealpy.evolutionary_based.GA.BaseGA: >Problem: P, Epoch: 69, Current best: -100.11170196533203, Global best: -100.11170196533203, Runtime: 0.06426 seconds\n",
      "2023/07/31 12:51:33 PM, INFO, mealpy.evolutionary_based.GA.BaseGA: >Problem: P, Epoch: 70, Current best: -100.11170196533203, Global best: -100.11170196533203, Runtime: 0.07023 seconds\n",
      "2023/07/31 12:51:33 PM, INFO, mealpy.evolutionary_based.GA.BaseGA: >Problem: P, Epoch: 71, Current best: -100.11170196533203, Global best: -100.11170196533203, Runtime: 0.06740 seconds\n",
      "2023/07/31 12:51:33 PM, INFO, mealpy.evolutionary_based.GA.BaseGA: >Problem: P, Epoch: 72, Current best: -100.11170196533203, Global best: -100.11170196533203, Runtime: 0.07174 seconds\n",
      "2023/07/31 12:51:33 PM, INFO, mealpy.evolutionary_based.GA.BaseGA: >Problem: P, Epoch: 73, Current best: -100.11170196533203, Global best: -100.11170196533203, Runtime: 0.09941 seconds\n",
      "2023/07/31 12:51:33 PM, INFO, mealpy.evolutionary_based.GA.BaseGA: >Problem: P, Epoch: 74, Current best: -100.11170196533203, Global best: -100.11170196533203, Runtime: 0.07045 seconds\n",
      "2023/07/31 12:51:33 PM, INFO, mealpy.evolutionary_based.GA.BaseGA: >Problem: P, Epoch: 75, Current best: -100.11170196533203, Global best: -100.11170196533203, Runtime: 0.06775 seconds\n",
      "2023/07/31 12:51:33 PM, INFO, mealpy.evolutionary_based.GA.BaseGA: >Problem: P, Epoch: 76, Current best: -100.11285400390625, Global best: -100.11285400390625, Runtime: 0.06431 seconds\n",
      "2023/07/31 12:51:33 PM, INFO, mealpy.evolutionary_based.GA.BaseGA: >Problem: P, Epoch: 77, Current best: -100.11285400390625, Global best: -100.11285400390625, Runtime: 0.06809 seconds\n",
      "2023/07/31 12:51:33 PM, INFO, mealpy.evolutionary_based.GA.BaseGA: >Problem: P, Epoch: 78, Current best: -100.11285400390625, Global best: -100.11285400390625, Runtime: 0.06170 seconds\n",
      "2023/07/31 12:51:33 PM, INFO, mealpy.evolutionary_based.GA.BaseGA: >Problem: P, Epoch: 79, Current best: -100.11285400390625, Global best: -100.11285400390625, Runtime: 0.06898 seconds\n",
      "2023/07/31 12:51:33 PM, INFO, mealpy.evolutionary_based.GA.BaseGA: >Problem: P, Epoch: 80, Current best: -100.11285400390625, Global best: -100.11285400390625, Runtime: 0.06923 seconds\n",
      "2023/07/31 12:51:33 PM, INFO, mealpy.evolutionary_based.GA.BaseGA: >Problem: P, Epoch: 81, Current best: -100.11285400390625, Global best: -100.11285400390625, Runtime: 0.06628 seconds\n",
      "2023/07/31 12:51:33 PM, INFO, mealpy.evolutionary_based.GA.BaseGA: >Problem: P, Epoch: 82, Current best: -100.11285400390625, Global best: -100.11285400390625, Runtime: 0.06540 seconds\n",
      "2023/07/31 12:51:34 PM, INFO, mealpy.evolutionary_based.GA.BaseGA: >Problem: P, Epoch: 83, Current best: -100.11285400390625, Global best: -100.11285400390625, Runtime: 0.06711 seconds\n",
      "2023/07/31 12:51:34 PM, INFO, mealpy.evolutionary_based.GA.BaseGA: >Problem: P, Epoch: 84, Current best: -100.11285400390625, Global best: -100.11285400390625, Runtime: 0.06546 seconds\n",
      "2023/07/31 12:51:34 PM, INFO, mealpy.evolutionary_based.GA.BaseGA: >Problem: P, Epoch: 85, Current best: -100.11285400390625, Global best: -100.11285400390625, Runtime: 0.06881 seconds\n",
      "2023/07/31 12:51:34 PM, INFO, mealpy.evolutionary_based.GA.BaseGA: >Problem: P, Epoch: 86, Current best: -100.11285400390625, Global best: -100.11285400390625, Runtime: 0.06876 seconds\n",
      "2023/07/31 12:51:34 PM, INFO, mealpy.evolutionary_based.GA.BaseGA: >Problem: P, Epoch: 87, Current best: -100.11285400390625, Global best: -100.11285400390625, Runtime: 0.07566 seconds\n",
      "2023/07/31 12:51:34 PM, INFO, mealpy.evolutionary_based.GA.BaseGA: >Problem: P, Epoch: 88, Current best: -100.11285400390625, Global best: -100.11285400390625, Runtime: 0.07908 seconds\n",
      "2023/07/31 12:51:34 PM, INFO, mealpy.evolutionary_based.GA.BaseGA: >Problem: P, Epoch: 89, Current best: -100.11285400390625, Global best: -100.11285400390625, Runtime: 0.06990 seconds\n",
      "2023/07/31 12:51:34 PM, INFO, mealpy.evolutionary_based.GA.BaseGA: >Problem: P, Epoch: 90, Current best: -100.11285400390625, Global best: -100.11285400390625, Runtime: 0.07479 seconds\n"
     ]
    },
    {
     "name": "stderr",
     "output_type": "stream",
     "text": [
      "2023/07/31 12:51:34 PM, INFO, mealpy.evolutionary_based.GA.BaseGA: >Problem: P, Epoch: 91, Current best: -100.11285400390625, Global best: -100.11285400390625, Runtime: 0.06604 seconds\n",
      "2023/07/31 12:51:34 PM, INFO, mealpy.evolutionary_based.GA.BaseGA: >Problem: P, Epoch: 92, Current best: -100.11285400390625, Global best: -100.11285400390625, Runtime: 0.06725 seconds\n",
      "2023/07/31 12:51:34 PM, INFO, mealpy.evolutionary_based.GA.BaseGA: >Problem: P, Epoch: 93, Current best: -100.11285400390625, Global best: -100.11285400390625, Runtime: 0.06455 seconds\n",
      "2023/07/31 12:51:34 PM, INFO, mealpy.evolutionary_based.GA.BaseGA: >Problem: P, Epoch: 94, Current best: -100.11285400390625, Global best: -100.11285400390625, Runtime: 0.06592 seconds\n",
      "2023/07/31 12:51:34 PM, INFO, mealpy.evolutionary_based.GA.BaseGA: >Problem: P, Epoch: 95, Current best: -100.11285400390625, Global best: -100.11285400390625, Runtime: 0.06898 seconds\n",
      "2023/07/31 12:51:34 PM, INFO, mealpy.evolutionary_based.GA.BaseGA: >Problem: P, Epoch: 96, Current best: -100.11285400390625, Global best: -100.11285400390625, Runtime: 0.06645 seconds\n",
      "2023/07/31 12:51:35 PM, INFO, mealpy.evolutionary_based.GA.BaseGA: >Problem: P, Epoch: 97, Current best: -100.11285400390625, Global best: -100.11285400390625, Runtime: 0.06804 seconds\n",
      "2023/07/31 12:51:35 PM, INFO, mealpy.evolutionary_based.GA.BaseGA: >Problem: P, Epoch: 98, Current best: -100.11285400390625, Global best: -100.11285400390625, Runtime: 0.06866 seconds\n",
      "2023/07/31 12:51:35 PM, INFO, mealpy.evolutionary_based.GA.BaseGA: >Problem: P, Epoch: 99, Current best: -100.11285400390625, Global best: -100.11285400390625, Runtime: 0.06549 seconds\n",
      "2023/07/31 12:51:35 PM, INFO, mealpy.evolutionary_based.GA.BaseGA: >Problem: P, Epoch: 100, Current best: -100.11285400390625, Global best: -100.11285400390625, Runtime: 0.07520 seconds\n"
     ]
    }
   ],
   "source": [
    "best_position, best_fitness = model.solve(problem_dict1)"
   ]
  },
  {
   "cell_type": "code",
   "execution_count": 16,
   "id": "ec9b80dd",
   "metadata": {},
   "outputs": [
    {
     "name": "stdout",
     "output_type": "stream",
     "text": [
      "Best Solution:\n",
      "X1: 40.053785573721285\n",
      "X2: 1.0020864892741712\n",
      "X3: 149.53821535672927\n",
      "X4: 6.001103670958594\n",
      "Best Fitness: 100.11285400390625\n"
     ]
    }
   ],
   "source": [
    "print(\"Best Solution:\")\n",
    "print(\"X1:\", best_position[0])\n",
    "print(\"X2:\", best_position[1])\n",
    "print(\"X3:\", best_position[2])\n",
    "print(\"X4:\", best_position[3])\n",
    "print(\"Best Fitness:\", -best_fitness)  # Convert back to positive as it was negated for maximization"
   ]
  },
  {
   "cell_type": "code",
   "execution_count": null,
   "id": "425c1813",
   "metadata": {},
   "outputs": [],
   "source": []
  },
  {
   "cell_type": "code",
   "execution_count": null,
   "id": "765a8309",
   "metadata": {},
   "outputs": [],
   "source": []
  },
  {
   "cell_type": "markdown",
   "id": "db09141d",
   "metadata": {},
   "source": [
    "## PSO"
   ]
  },
  {
   "cell_type": "code",
   "execution_count": 17,
   "id": "7ceb7bbb",
   "metadata": {},
   "outputs": [],
   "source": [
    "from mealpy.swarm_based.PSO import CL_PSO"
   ]
  },
  {
   "cell_type": "code",
   "execution_count": 18,
   "id": "1efd44db",
   "metadata": {},
   "outputs": [],
   "source": [
    "epoch = 100\n",
    "pop_size = 50\n",
    "c_local = 1.2\n",
    "w_min = 0.4\n",
    "w_max = 0.9\n",
    "max_flag = 7"
   ]
  },
  {
   "cell_type": "code",
   "execution_count": 19,
   "id": "686046d3",
   "metadata": {},
   "outputs": [],
   "source": [
    "model_PSO = CL_PSO(epoch, pop_size, c_local, w_min, w_max, max_flag)"
   ]
  },
  {
   "cell_type": "code",
   "execution_count": 20,
   "id": "19fd1f59",
   "metadata": {},
   "outputs": [
    {
     "name": "stderr",
     "output_type": "stream",
     "text": [
      "2023/07/31 12:53:00 PM, INFO, mealpy.swarm_based.PSO.CL_PSO: Solving single objective optimization problem.\n",
      "2023/07/31 12:53:01 PM, INFO, mealpy.swarm_based.PSO.CL_PSO: >Problem: P, Epoch: 1, Current best: -93.40718460083008, Global best: -93.40718460083008, Runtime: 0.07710 seconds\n",
      "2023/07/31 12:53:01 PM, INFO, mealpy.swarm_based.PSO.CL_PSO: >Problem: P, Epoch: 2, Current best: -93.40718460083008, Global best: -93.40718460083008, Runtime: 0.06413 seconds\n",
      "2023/07/31 12:53:01 PM, INFO, mealpy.swarm_based.PSO.CL_PSO: >Problem: P, Epoch: 3, Current best: -93.40718460083008, Global best: -93.40718460083008, Runtime: 0.07393 seconds\n",
      "2023/07/31 12:53:01 PM, INFO, mealpy.swarm_based.PSO.CL_PSO: >Problem: P, Epoch: 4, Current best: -93.40718460083008, Global best: -93.40718460083008, Runtime: 0.07908 seconds\n",
      "2023/07/31 12:53:01 PM, INFO, mealpy.swarm_based.PSO.CL_PSO: >Problem: P, Epoch: 5, Current best: -93.40718460083008, Global best: -93.40718460083008, Runtime: 0.07158 seconds\n",
      "2023/07/31 12:53:01 PM, INFO, mealpy.swarm_based.PSO.CL_PSO: >Problem: P, Epoch: 6, Current best: -93.54788208007812, Global best: -93.54788208007812, Runtime: 0.06498 seconds\n",
      "2023/07/31 12:53:01 PM, INFO, mealpy.swarm_based.PSO.CL_PSO: >Problem: P, Epoch: 7, Current best: -93.54788208007812, Global best: -93.54788208007812, Runtime: 0.08046 seconds\n",
      "2023/07/31 12:53:01 PM, INFO, mealpy.swarm_based.PSO.CL_PSO: >Problem: P, Epoch: 8, Current best: -93.55267333984375, Global best: -93.55267333984375, Runtime: 0.06892 seconds\n",
      "2023/07/31 12:53:01 PM, INFO, mealpy.swarm_based.PSO.CL_PSO: >Problem: P, Epoch: 9, Current best: -93.55313110351562, Global best: -93.55313110351562, Runtime: 0.08003 seconds\n",
      "2023/07/31 12:53:01 PM, INFO, mealpy.swarm_based.PSO.CL_PSO: >Problem: P, Epoch: 10, Current best: -93.55313110351562, Global best: -93.55313110351562, Runtime: 0.07049 seconds\n",
      "2023/07/31 12:53:01 PM, INFO, mealpy.swarm_based.PSO.CL_PSO: >Problem: P, Epoch: 11, Current best: -93.55313110351562, Global best: -93.55313110351562, Runtime: 0.08508 seconds\n",
      "2023/07/31 12:53:01 PM, INFO, mealpy.swarm_based.PSO.CL_PSO: >Problem: P, Epoch: 12, Current best: -93.55313110351562, Global best: -93.55313110351562, Runtime: 0.07491 seconds\n",
      "2023/07/31 12:53:02 PM, INFO, mealpy.swarm_based.PSO.CL_PSO: >Problem: P, Epoch: 13, Current best: -93.55313110351562, Global best: -93.55313110351562, Runtime: 0.09023 seconds\n",
      "2023/07/31 12:53:02 PM, INFO, mealpy.swarm_based.PSO.CL_PSO: >Problem: P, Epoch: 14, Current best: -93.55313110351562, Global best: -93.55313110351562, Runtime: 0.08113 seconds\n",
      "2023/07/31 12:53:02 PM, INFO, mealpy.swarm_based.PSO.CL_PSO: >Problem: P, Epoch: 15, Current best: -93.55313110351562, Global best: -93.55313110351562, Runtime: 0.08516 seconds\n",
      "2023/07/31 12:53:02 PM, INFO, mealpy.swarm_based.PSO.CL_PSO: >Problem: P, Epoch: 16, Current best: -93.55313110351562, Global best: -93.55313110351562, Runtime: 0.09297 seconds\n",
      "2023/07/31 12:53:02 PM, INFO, mealpy.swarm_based.PSO.CL_PSO: >Problem: P, Epoch: 17, Current best: -93.55313110351562, Global best: -93.55313110351562, Runtime: 0.08400 seconds\n",
      "2023/07/31 12:53:02 PM, INFO, mealpy.swarm_based.PSO.CL_PSO: >Problem: P, Epoch: 18, Current best: -93.55313110351562, Global best: -93.55313110351562, Runtime: 0.09592 seconds\n",
      "2023/07/31 12:53:02 PM, INFO, mealpy.swarm_based.PSO.CL_PSO: >Problem: P, Epoch: 19, Current best: -93.55313110351562, Global best: -93.55313110351562, Runtime: 0.09590 seconds\n",
      "2023/07/31 12:53:02 PM, INFO, mealpy.swarm_based.PSO.CL_PSO: >Problem: P, Epoch: 20, Current best: -93.57056427001953, Global best: -93.57056427001953, Runtime: 0.09522 seconds\n",
      "2023/07/31 12:53:02 PM, INFO, mealpy.swarm_based.PSO.CL_PSO: >Problem: P, Epoch: 21, Current best: -93.8242130279541, Global best: -93.8242130279541, Runtime: 0.10226 seconds\n",
      "2023/07/31 12:53:02 PM, INFO, mealpy.swarm_based.PSO.CL_PSO: >Problem: P, Epoch: 22, Current best: -93.82467269897461, Global best: -93.82467269897461, Runtime: 0.11420 seconds\n",
      "2023/07/31 12:53:03 PM, INFO, mealpy.swarm_based.PSO.CL_PSO: >Problem: P, Epoch: 23, Current best: -93.82467269897461, Global best: -93.82467269897461, Runtime: 0.08497 seconds\n",
      "2023/07/31 12:53:03 PM, INFO, mealpy.swarm_based.PSO.CL_PSO: >Problem: P, Epoch: 24, Current best: -93.89263534545898, Global best: -93.89263534545898, Runtime: 0.08586 seconds\n",
      "2023/07/31 12:53:03 PM, INFO, mealpy.swarm_based.PSO.CL_PSO: >Problem: P, Epoch: 25, Current best: -93.89881706237793, Global best: -93.89881706237793, Runtime: 0.07857 seconds\n",
      "2023/07/31 12:53:03 PM, INFO, mealpy.swarm_based.PSO.CL_PSO: >Problem: P, Epoch: 26, Current best: -93.89945983886719, Global best: -93.89945983886719, Runtime: 0.08358 seconds\n",
      "2023/07/31 12:53:03 PM, INFO, mealpy.swarm_based.PSO.CL_PSO: >Problem: P, Epoch: 27, Current best: -93.89958381652832, Global best: -93.89958381652832, Runtime: 0.11237 seconds\n",
      "2023/07/31 12:53:03 PM, INFO, mealpy.swarm_based.PSO.CL_PSO: >Problem: P, Epoch: 28, Current best: -93.89959144592285, Global best: -93.89959144592285, Runtime: 0.11277 seconds\n",
      "2023/07/31 12:53:03 PM, INFO, mealpy.swarm_based.PSO.CL_PSO: >Problem: P, Epoch: 29, Current best: -93.8997917175293, Global best: -93.8997917175293, Runtime: 0.10919 seconds\n",
      "2023/07/31 12:53:03 PM, INFO, mealpy.swarm_based.PSO.CL_PSO: >Problem: P, Epoch: 30, Current best: -93.8997917175293, Global best: -93.8997917175293, Runtime: 0.10088 seconds\n",
      "2023/07/31 12:53:03 PM, INFO, mealpy.swarm_based.PSO.CL_PSO: >Problem: P, Epoch: 31, Current best: -93.8997917175293, Global best: -93.8997917175293, Runtime: 0.07563 seconds\n",
      "2023/07/31 12:53:03 PM, INFO, mealpy.swarm_based.PSO.CL_PSO: >Problem: P, Epoch: 32, Current best: -93.90417289733887, Global best: -93.90417289733887, Runtime: 0.08439 seconds\n",
      "2023/07/31 12:53:04 PM, INFO, mealpy.swarm_based.PSO.CL_PSO: >Problem: P, Epoch: 33, Current best: -93.93191528320312, Global best: -93.93191528320312, Runtime: 0.08361 seconds\n",
      "2023/07/31 12:53:04 PM, INFO, mealpy.swarm_based.PSO.CL_PSO: >Problem: P, Epoch: 34, Current best: -94.64142608642578, Global best: -94.64142608642578, Runtime: 0.08080 seconds\n",
      "2023/07/31 12:53:04 PM, INFO, mealpy.swarm_based.PSO.CL_PSO: >Problem: P, Epoch: 35, Current best: -94.64142608642578, Global best: -94.64142608642578, Runtime: 0.07740 seconds\n",
      "2023/07/31 12:53:04 PM, INFO, mealpy.swarm_based.PSO.CL_PSO: >Problem: P, Epoch: 36, Current best: -94.64142608642578, Global best: -94.64142608642578, Runtime: 0.07643 seconds\n",
      "2023/07/31 12:53:04 PM, INFO, mealpy.swarm_based.PSO.CL_PSO: >Problem: P, Epoch: 37, Current best: -94.64142608642578, Global best: -94.64142608642578, Runtime: 0.06754 seconds\n",
      "2023/07/31 12:53:04 PM, INFO, mealpy.swarm_based.PSO.CL_PSO: >Problem: P, Epoch: 38, Current best: -94.89635467529297, Global best: -94.89635467529297, Runtime: 0.12925 seconds\n",
      "2023/07/31 12:53:04 PM, INFO, mealpy.swarm_based.PSO.CL_PSO: >Problem: P, Epoch: 39, Current best: -95.13780212402344, Global best: -95.13780212402344, Runtime: 0.06319 seconds\n",
      "2023/07/31 12:53:04 PM, INFO, mealpy.swarm_based.PSO.CL_PSO: >Problem: P, Epoch: 40, Current best: -95.13780212402344, Global best: -95.13780212402344, Runtime: 0.06577 seconds\n",
      "2023/07/31 12:53:04 PM, INFO, mealpy.swarm_based.PSO.CL_PSO: >Problem: P, Epoch: 41, Current best: -95.13780212402344, Global best: -95.13780212402344, Runtime: 0.07428 seconds\n",
      "2023/07/31 12:53:04 PM, INFO, mealpy.swarm_based.PSO.CL_PSO: >Problem: P, Epoch: 42, Current best: -95.28707122802734, Global best: -95.28707122802734, Runtime: 0.06991 seconds\n",
      "2023/07/31 12:53:04 PM, INFO, mealpy.swarm_based.PSO.CL_PSO: >Problem: P, Epoch: 43, Current best: -95.28707122802734, Global best: -95.28707122802734, Runtime: 0.07587 seconds\n",
      "2023/07/31 12:53:05 PM, INFO, mealpy.swarm_based.PSO.CL_PSO: >Problem: P, Epoch: 44, Current best: -95.28707122802734, Global best: -95.28707122802734, Runtime: 0.08216 seconds\n",
      "2023/07/31 12:53:05 PM, INFO, mealpy.swarm_based.PSO.CL_PSO: >Problem: P, Epoch: 45, Current best: -95.28707122802734, Global best: -95.28707122802734, Runtime: 0.07509 seconds\n",
      "2023/07/31 12:53:05 PM, INFO, mealpy.swarm_based.PSO.CL_PSO: >Problem: P, Epoch: 46, Current best: -95.30780792236328, Global best: -95.30780792236328, Runtime: 0.06479 seconds\n"
     ]
    },
    {
     "name": "stderr",
     "output_type": "stream",
     "text": [
      "2023/07/31 12:53:05 PM, INFO, mealpy.swarm_based.PSO.CL_PSO: >Problem: P, Epoch: 47, Current best: -95.49620056152344, Global best: -95.49620056152344, Runtime: 0.06837 seconds\n",
      "2023/07/31 12:53:05 PM, INFO, mealpy.swarm_based.PSO.CL_PSO: >Problem: P, Epoch: 48, Current best: -96.03345489501953, Global best: -96.03345489501953, Runtime: 0.06875 seconds\n",
      "2023/07/31 12:53:05 PM, INFO, mealpy.swarm_based.PSO.CL_PSO: >Problem: P, Epoch: 49, Current best: -96.03345489501953, Global best: -96.03345489501953, Runtime: 0.08826 seconds\n",
      "2023/07/31 12:53:05 PM, INFO, mealpy.swarm_based.PSO.CL_PSO: >Problem: P, Epoch: 50, Current best: -96.03345489501953, Global best: -96.03345489501953, Runtime: 0.07509 seconds\n",
      "2023/07/31 12:53:05 PM, INFO, mealpy.swarm_based.PSO.CL_PSO: >Problem: P, Epoch: 51, Current best: -96.1908950805664, Global best: -96.1908950805664, Runtime: 0.07952 seconds\n",
      "2023/07/31 12:53:05 PM, INFO, mealpy.swarm_based.PSO.CL_PSO: >Problem: P, Epoch: 52, Current best: -96.1908950805664, Global best: -96.1908950805664, Runtime: 0.07254 seconds\n",
      "2023/07/31 12:53:05 PM, INFO, mealpy.swarm_based.PSO.CL_PSO: >Problem: P, Epoch: 53, Current best: -96.1908950805664, Global best: -96.1908950805664, Runtime: 0.07567 seconds\n",
      "2023/07/31 12:53:05 PM, INFO, mealpy.swarm_based.PSO.CL_PSO: >Problem: P, Epoch: 54, Current best: -96.44989776611328, Global best: -96.44989776611328, Runtime: 0.07812 seconds\n",
      "2023/07/31 12:53:05 PM, INFO, mealpy.swarm_based.PSO.CL_PSO: >Problem: P, Epoch: 55, Current best: -96.44989776611328, Global best: -96.44989776611328, Runtime: 0.07561 seconds\n",
      "2023/07/31 12:53:05 PM, INFO, mealpy.swarm_based.PSO.CL_PSO: >Problem: P, Epoch: 56, Current best: -96.44989776611328, Global best: -96.44989776611328, Runtime: 0.07598 seconds\n",
      "2023/07/31 12:53:06 PM, INFO, mealpy.swarm_based.PSO.CL_PSO: >Problem: P, Epoch: 57, Current best: -96.44989776611328, Global best: -96.44989776611328, Runtime: 0.07489 seconds\n",
      "2023/07/31 12:53:06 PM, INFO, mealpy.swarm_based.PSO.CL_PSO: >Problem: P, Epoch: 58, Current best: -96.44989776611328, Global best: -96.44989776611328, Runtime: 0.08929 seconds\n",
      "2023/07/31 12:53:06 PM, INFO, mealpy.swarm_based.PSO.CL_PSO: >Problem: P, Epoch: 59, Current best: -96.65385437011719, Global best: -96.65385437011719, Runtime: 0.07022 seconds\n",
      "2023/07/31 12:53:06 PM, INFO, mealpy.swarm_based.PSO.CL_PSO: >Problem: P, Epoch: 60, Current best: -96.65385437011719, Global best: -96.65385437011719, Runtime: 0.08120 seconds\n",
      "2023/07/31 12:53:06 PM, INFO, mealpy.swarm_based.PSO.CL_PSO: >Problem: P, Epoch: 61, Current best: -96.65385437011719, Global best: -96.65385437011719, Runtime: 0.08612 seconds\n",
      "2023/07/31 12:53:06 PM, INFO, mealpy.swarm_based.PSO.CL_PSO: >Problem: P, Epoch: 62, Current best: -96.68927764892578, Global best: -96.68927764892578, Runtime: 0.07819 seconds\n",
      "2023/07/31 12:53:06 PM, INFO, mealpy.swarm_based.PSO.CL_PSO: >Problem: P, Epoch: 63, Current best: -97.15046691894531, Global best: -97.15046691894531, Runtime: 0.08049 seconds\n",
      "2023/07/31 12:53:06 PM, INFO, mealpy.swarm_based.PSO.CL_PSO: >Problem: P, Epoch: 64, Current best: -97.76597595214844, Global best: -97.76597595214844, Runtime: 0.07308 seconds\n",
      "2023/07/31 12:53:06 PM, INFO, mealpy.swarm_based.PSO.CL_PSO: >Problem: P, Epoch: 65, Current best: -97.95636749267578, Global best: -97.95636749267578, Runtime: 0.07537 seconds\n",
      "2023/07/31 12:53:06 PM, INFO, mealpy.swarm_based.PSO.CL_PSO: >Problem: P, Epoch: 66, Current best: -98.02603149414062, Global best: -98.02603149414062, Runtime: 0.07802 seconds\n",
      "2023/07/31 12:53:06 PM, INFO, mealpy.swarm_based.PSO.CL_PSO: >Problem: P, Epoch: 67, Current best: -98.16107177734375, Global best: -98.16107177734375, Runtime: 0.07641 seconds\n",
      "2023/07/31 12:53:06 PM, INFO, mealpy.swarm_based.PSO.CL_PSO: >Problem: P, Epoch: 68, Current best: -98.83362579345703, Global best: -98.83362579345703, Runtime: 0.07220 seconds\n",
      "2023/07/31 12:53:07 PM, INFO, mealpy.swarm_based.PSO.CL_PSO: >Problem: P, Epoch: 69, Current best: -99.0853042602539, Global best: -99.0853042602539, Runtime: 0.07413 seconds\n",
      "2023/07/31 12:53:07 PM, INFO, mealpy.swarm_based.PSO.CL_PSO: >Problem: P, Epoch: 70, Current best: -99.16357421875, Global best: -99.16357421875, Runtime: 0.07305 seconds\n",
      "2023/07/31 12:53:07 PM, INFO, mealpy.swarm_based.PSO.CL_PSO: >Problem: P, Epoch: 71, Current best: -99.16357421875, Global best: -99.16357421875, Runtime: 0.07342 seconds\n",
      "2023/07/31 12:53:07 PM, INFO, mealpy.swarm_based.PSO.CL_PSO: >Problem: P, Epoch: 72, Current best: -99.16357421875, Global best: -99.16357421875, Runtime: 0.09049 seconds\n",
      "2023/07/31 12:53:07 PM, INFO, mealpy.swarm_based.PSO.CL_PSO: >Problem: P, Epoch: 73, Current best: -99.22665405273438, Global best: -99.22665405273438, Runtime: 0.08861 seconds\n",
      "2023/07/31 12:53:07 PM, INFO, mealpy.swarm_based.PSO.CL_PSO: >Problem: P, Epoch: 74, Current best: -99.22665405273438, Global best: -99.22665405273438, Runtime: 0.09155 seconds\n",
      "2023/07/31 12:53:07 PM, INFO, mealpy.swarm_based.PSO.CL_PSO: >Problem: P, Epoch: 75, Current best: -99.22665405273438, Global best: -99.22665405273438, Runtime: 0.09809 seconds\n",
      "2023/07/31 12:53:07 PM, INFO, mealpy.swarm_based.PSO.CL_PSO: >Problem: P, Epoch: 76, Current best: -99.30323028564453, Global best: -99.30323028564453, Runtime: 0.07824 seconds\n",
      "2023/07/31 12:53:07 PM, INFO, mealpy.swarm_based.PSO.CL_PSO: >Problem: P, Epoch: 77, Current best: -99.84808349609375, Global best: -99.84808349609375, Runtime: 0.07316 seconds\n",
      "2023/07/31 12:53:07 PM, INFO, mealpy.swarm_based.PSO.CL_PSO: >Problem: P, Epoch: 78, Current best: -99.84808349609375, Global best: -99.84808349609375, Runtime: 0.06857 seconds\n",
      "2023/07/31 12:53:07 PM, INFO, mealpy.swarm_based.PSO.CL_PSO: >Problem: P, Epoch: 79, Current best: -99.84808349609375, Global best: -99.84808349609375, Runtime: 0.07236 seconds\n",
      "2023/07/31 12:53:07 PM, INFO, mealpy.swarm_based.PSO.CL_PSO: >Problem: P, Epoch: 80, Current best: -99.84808349609375, Global best: -99.84808349609375, Runtime: 0.07590 seconds\n",
      "2023/07/31 12:53:08 PM, INFO, mealpy.swarm_based.PSO.CL_PSO: >Problem: P, Epoch: 81, Current best: -99.84808349609375, Global best: -99.84808349609375, Runtime: 0.07857 seconds\n",
      "2023/07/31 12:53:08 PM, INFO, mealpy.swarm_based.PSO.CL_PSO: >Problem: P, Epoch: 82, Current best: -99.84808349609375, Global best: -99.84808349609375, Runtime: 0.07723 seconds\n",
      "2023/07/31 12:53:08 PM, INFO, mealpy.swarm_based.PSO.CL_PSO: >Problem: P, Epoch: 83, Current best: -99.84808349609375, Global best: -99.84808349609375, Runtime: 0.06594 seconds\n",
      "2023/07/31 12:53:08 PM, INFO, mealpy.swarm_based.PSO.CL_PSO: >Problem: P, Epoch: 84, Current best: -99.84808349609375, Global best: -99.84808349609375, Runtime: 0.07428 seconds\n",
      "2023/07/31 12:53:08 PM, INFO, mealpy.swarm_based.PSO.CL_PSO: >Problem: P, Epoch: 85, Current best: -99.84808349609375, Global best: -99.84808349609375, Runtime: 0.07677 seconds\n",
      "2023/07/31 12:53:08 PM, INFO, mealpy.swarm_based.PSO.CL_PSO: >Problem: P, Epoch: 86, Current best: -99.9885482788086, Global best: -99.9885482788086, Runtime: 0.07180 seconds\n",
      "2023/07/31 12:53:08 PM, INFO, mealpy.swarm_based.PSO.CL_PSO: >Problem: P, Epoch: 87, Current best: -100.23655700683594, Global best: -100.23655700683594, Runtime: 0.07618 seconds\n",
      "2023/07/31 12:53:08 PM, INFO, mealpy.swarm_based.PSO.CL_PSO: >Problem: P, Epoch: 88, Current best: -100.23655700683594, Global best: -100.23655700683594, Runtime: 0.07438 seconds\n",
      "2023/07/31 12:53:08 PM, INFO, mealpy.swarm_based.PSO.CL_PSO: >Problem: P, Epoch: 89, Current best: -100.23655700683594, Global best: -100.23655700683594, Runtime: 0.07583 seconds\n",
      "2023/07/31 12:53:08 PM, INFO, mealpy.swarm_based.PSO.CL_PSO: >Problem: P, Epoch: 90, Current best: -100.23655700683594, Global best: -100.23655700683594, Runtime: 0.07537 seconds\n",
      "2023/07/31 12:53:08 PM, INFO, mealpy.swarm_based.PSO.CL_PSO: >Problem: P, Epoch: 91, Current best: -100.23655700683594, Global best: -100.23655700683594, Runtime: 0.07459 seconds\n",
      "2023/07/31 12:53:08 PM, INFO, mealpy.swarm_based.PSO.CL_PSO: >Problem: P, Epoch: 92, Current best: -100.23655700683594, Global best: -100.23655700683594, Runtime: 0.06807 seconds\n",
      "2023/07/31 12:53:09 PM, INFO, mealpy.swarm_based.PSO.CL_PSO: >Problem: P, Epoch: 93, Current best: -100.23655700683594, Global best: -100.23655700683594, Runtime: 0.07982 seconds\n"
     ]
    },
    {
     "name": "stderr",
     "output_type": "stream",
     "text": [
      "2023/07/31 12:53:09 PM, INFO, mealpy.swarm_based.PSO.CL_PSO: >Problem: P, Epoch: 94, Current best: -100.23655700683594, Global best: -100.23655700683594, Runtime: 0.07351 seconds\n",
      "2023/07/31 12:53:09 PM, INFO, mealpy.swarm_based.PSO.CL_PSO: >Problem: P, Epoch: 95, Current best: -100.23655700683594, Global best: -100.23655700683594, Runtime: 0.07593 seconds\n",
      "2023/07/31 12:53:09 PM, INFO, mealpy.swarm_based.PSO.CL_PSO: >Problem: P, Epoch: 96, Current best: -100.23655700683594, Global best: -100.23655700683594, Runtime: 0.07749 seconds\n",
      "2023/07/31 12:53:09 PM, INFO, mealpy.swarm_based.PSO.CL_PSO: >Problem: P, Epoch: 97, Current best: -100.23655700683594, Global best: -100.23655700683594, Runtime: 0.07470 seconds\n",
      "2023/07/31 12:53:09 PM, INFO, mealpy.swarm_based.PSO.CL_PSO: >Problem: P, Epoch: 98, Current best: -100.23655700683594, Global best: -100.23655700683594, Runtime: 0.06733 seconds\n",
      "2023/07/31 12:53:09 PM, INFO, mealpy.swarm_based.PSO.CL_PSO: >Problem: P, Epoch: 99, Current best: -100.23655700683594, Global best: -100.23655700683594, Runtime: 0.06669 seconds\n",
      "2023/07/31 12:53:09 PM, INFO, mealpy.swarm_based.PSO.CL_PSO: >Problem: P, Epoch: 100, Current best: -100.23655700683594, Global best: -100.23655700683594, Runtime: 0.06847 seconds\n"
     ]
    }
   ],
   "source": [
    "best_position_pso, best_fitness_pso = model_PSO.solve(problem_dict1)"
   ]
  },
  {
   "cell_type": "code",
   "execution_count": 21,
   "id": "aafe4526",
   "metadata": {},
   "outputs": [
    {
     "name": "stdout",
     "output_type": "stream",
     "text": [
      "Best Solution:\n",
      "X1: 40.0\n",
      "X2: 1.0\n",
      "X3: 150.0\n",
      "X4: 6.0\n",
      "Best Fitness: 100.23655700683594\n"
     ]
    }
   ],
   "source": [
    "print(\"Best Solution:\")\n",
    "print(\"X1:\", best_position_pso[0])\n",
    "print(\"X2:\", best_position_pso[1])\n",
    "print(\"X3:\", best_position_pso[2])\n",
    "print(\"X4:\", best_position_pso[3])\n",
    "print(\"Best Fitness:\", -best_fitness_pso)  # Convert back to positive as it was negated for maximization"
   ]
  },
  {
   "cell_type": "code",
   "execution_count": null,
   "id": "986564d7",
   "metadata": {},
   "outputs": [],
   "source": []
  },
  {
   "cell_type": "code",
   "execution_count": null,
   "id": "6c3fb8f1",
   "metadata": {},
   "outputs": [],
   "source": []
  },
  {
   "cell_type": "markdown",
   "id": "ec010222",
   "metadata": {},
   "source": [
    "## MRFO-Manta ray foraging optimization"
   ]
  },
  {
   "cell_type": "code",
   "execution_count": 22,
   "id": "7fdfc570",
   "metadata": {},
   "outputs": [],
   "source": [
    "from mealpy.swarm_based.MRFO import OriginalMRFO"
   ]
  },
  {
   "cell_type": "code",
   "execution_count": 23,
   "id": "29fa4d75",
   "metadata": {},
   "outputs": [],
   "source": [
    "epoch = 100\n",
    "pop_size = 50\n",
    "somersault_range = 2.5"
   ]
  },
  {
   "cell_type": "code",
   "execution_count": 24,
   "id": "aa4a47c7",
   "metadata": {},
   "outputs": [],
   "source": [
    "model_mrfo = OriginalMRFO(epoch, pop_size, somersault_range)"
   ]
  },
  {
   "cell_type": "code",
   "execution_count": 25,
   "id": "f5fa59e8",
   "metadata": {},
   "outputs": [
    {
     "name": "stderr",
     "output_type": "stream",
     "text": [
      "2023/07/31 12:55:19 PM, INFO, mealpy.evolutionary_based.GA.BaseGA: Solving single objective optimization problem.\n",
      "2023/07/31 12:55:20 PM, INFO, mealpy.evolutionary_based.GA.BaseGA: >Problem: P, Epoch: 1, Current best: -93.27661895751953, Global best: -93.27661895751953, Runtime: 0.09028 seconds\n",
      "2023/07/31 12:55:20 PM, INFO, mealpy.evolutionary_based.GA.BaseGA: >Problem: P, Epoch: 2, Current best: -93.27661895751953, Global best: -93.27661895751953, Runtime: 0.06552 seconds\n",
      "2023/07/31 12:55:20 PM, INFO, mealpy.evolutionary_based.GA.BaseGA: >Problem: P, Epoch: 3, Current best: -95.9117431640625, Global best: -95.9117431640625, Runtime: 0.08038 seconds\n",
      "2023/07/31 12:55:20 PM, INFO, mealpy.evolutionary_based.GA.BaseGA: >Problem: P, Epoch: 4, Current best: -97.5362548828125, Global best: -97.5362548828125, Runtime: 0.06492 seconds\n",
      "2023/07/31 12:55:20 PM, INFO, mealpy.evolutionary_based.GA.BaseGA: >Problem: P, Epoch: 5, Current best: -97.5362548828125, Global best: -97.5362548828125, Runtime: 0.08457 seconds\n",
      "2023/07/31 12:55:20 PM, INFO, mealpy.evolutionary_based.GA.BaseGA: >Problem: P, Epoch: 6, Current best: -97.54315948486328, Global best: -97.54315948486328, Runtime: 0.06283 seconds\n",
      "2023/07/31 12:55:20 PM, INFO, mealpy.evolutionary_based.GA.BaseGA: >Problem: P, Epoch: 7, Current best: -97.54315948486328, Global best: -97.54315948486328, Runtime: 0.09073 seconds\n",
      "2023/07/31 12:55:20 PM, INFO, mealpy.evolutionary_based.GA.BaseGA: >Problem: P, Epoch: 8, Current best: -97.54315948486328, Global best: -97.54315948486328, Runtime: 0.07592 seconds\n",
      "2023/07/31 12:55:20 PM, INFO, mealpy.evolutionary_based.GA.BaseGA: >Problem: P, Epoch: 9, Current best: -98.70883178710938, Global best: -98.70883178710938, Runtime: 0.06804 seconds\n",
      "2023/07/31 12:55:20 PM, INFO, mealpy.evolutionary_based.GA.BaseGA: >Problem: P, Epoch: 10, Current best: -98.73137664794922, Global best: -98.73137664794922, Runtime: 0.10569 seconds\n",
      "2023/07/31 12:55:20 PM, INFO, mealpy.evolutionary_based.GA.BaseGA: >Problem: P, Epoch: 11, Current best: -98.74523162841797, Global best: -98.74523162841797, Runtime: 0.07065 seconds\n",
      "2023/07/31 12:55:21 PM, INFO, mealpy.evolutionary_based.GA.BaseGA: >Problem: P, Epoch: 12, Current best: -98.74523162841797, Global best: -98.74523162841797, Runtime: 0.09779 seconds\n",
      "2023/07/31 12:55:21 PM, INFO, mealpy.evolutionary_based.GA.BaseGA: >Problem: P, Epoch: 13, Current best: -98.74523162841797, Global best: -98.74523162841797, Runtime: 0.09083 seconds\n",
      "2023/07/31 12:55:21 PM, INFO, mealpy.evolutionary_based.GA.BaseGA: >Problem: P, Epoch: 14, Current best: -98.89285278320312, Global best: -98.89285278320312, Runtime: 0.07977 seconds\n",
      "2023/07/31 12:55:21 PM, INFO, mealpy.evolutionary_based.GA.BaseGA: >Problem: P, Epoch: 15, Current best: -98.89285278320312, Global best: -98.89285278320312, Runtime: 0.09155 seconds\n",
      "2023/07/31 12:55:21 PM, INFO, mealpy.evolutionary_based.GA.BaseGA: >Problem: P, Epoch: 16, Current best: -98.89285278320312, Global best: -98.89285278320312, Runtime: 0.09537 seconds\n",
      "2023/07/31 12:55:21 PM, INFO, mealpy.evolutionary_based.GA.BaseGA: >Problem: P, Epoch: 17, Current best: -98.89285278320312, Global best: -98.89285278320312, Runtime: 0.08867 seconds\n",
      "2023/07/31 12:55:21 PM, INFO, mealpy.evolutionary_based.GA.BaseGA: >Problem: P, Epoch: 18, Current best: -98.92102813720703, Global best: -98.92102813720703, Runtime: 0.09107 seconds\n",
      "2023/07/31 12:55:21 PM, INFO, mealpy.evolutionary_based.GA.BaseGA: >Problem: P, Epoch: 19, Current best: -98.9796142578125, Global best: -98.9796142578125, Runtime: 0.09388 seconds\n",
      "2023/07/31 12:55:21 PM, INFO, mealpy.evolutionary_based.GA.BaseGA: >Problem: P, Epoch: 20, Current best: -99.13842010498047, Global best: -99.13842010498047, Runtime: 0.06828 seconds\n",
      "2023/07/31 12:55:21 PM, INFO, mealpy.evolutionary_based.GA.BaseGA: >Problem: P, Epoch: 21, Current best: -99.13842010498047, Global best: -99.13842010498047, Runtime: 0.08728 seconds\n",
      "2023/07/31 12:55:21 PM, INFO, mealpy.evolutionary_based.GA.BaseGA: >Problem: P, Epoch: 22, Current best: -99.56143951416016, Global best: -99.56143951416016, Runtime: 0.10568 seconds\n",
      "2023/07/31 12:55:22 PM, INFO, mealpy.evolutionary_based.GA.BaseGA: >Problem: P, Epoch: 23, Current best: -99.15547943115234, Global best: -99.56143951416016, Runtime: 0.10983 seconds\n",
      "2023/07/31 12:55:22 PM, INFO, mealpy.evolutionary_based.GA.BaseGA: >Problem: P, Epoch: 24, Current best: -99.15547943115234, Global best: -99.56143951416016, Runtime: 0.10606 seconds\n",
      "2023/07/31 12:55:22 PM, INFO, mealpy.evolutionary_based.GA.BaseGA: >Problem: P, Epoch: 25, Current best: -99.26885223388672, Global best: -99.56143951416016, Runtime: 0.09864 seconds\n",
      "2023/07/31 12:55:22 PM, INFO, mealpy.evolutionary_based.GA.BaseGA: >Problem: P, Epoch: 26, Current best: -99.26885223388672, Global best: -99.56143951416016, Runtime: 0.08032 seconds\n",
      "2023/07/31 12:55:22 PM, INFO, mealpy.evolutionary_based.GA.BaseGA: >Problem: P, Epoch: 27, Current best: -99.27039337158203, Global best: -99.56143951416016, Runtime: 0.07983 seconds\n",
      "2023/07/31 12:55:22 PM, INFO, mealpy.evolutionary_based.GA.BaseGA: >Problem: P, Epoch: 28, Current best: -99.41793823242188, Global best: -99.56143951416016, Runtime: 0.10221 seconds\n",
      "2023/07/31 12:55:22 PM, INFO, mealpy.evolutionary_based.GA.BaseGA: >Problem: P, Epoch: 29, Current best: -99.96964263916016, Global best: -99.96964263916016, Runtime: 0.09999 seconds\n",
      "2023/07/31 12:55:22 PM, INFO, mealpy.evolutionary_based.GA.BaseGA: >Problem: P, Epoch: 30, Current best: -100.09651947021484, Global best: -100.09651947021484, Runtime: 0.10840 seconds\n",
      "2023/07/31 12:55:22 PM, INFO, mealpy.evolutionary_based.GA.BaseGA: >Problem: P, Epoch: 31, Current best: -100.09651947021484, Global best: -100.09651947021484, Runtime: 0.07540 seconds\n",
      "2023/07/31 12:55:22 PM, INFO, mealpy.evolutionary_based.GA.BaseGA: >Problem: P, Epoch: 32, Current best: -100.09651947021484, Global best: -100.09651947021484, Runtime: 0.09270 seconds\n",
      "2023/07/31 12:55:23 PM, INFO, mealpy.evolutionary_based.GA.BaseGA: >Problem: P, Epoch: 33, Current best: -100.09651947021484, Global best: -100.09651947021484, Runtime: 0.08599 seconds\n",
      "2023/07/31 12:55:23 PM, INFO, mealpy.evolutionary_based.GA.BaseGA: >Problem: P, Epoch: 34, Current best: -100.09651947021484, Global best: -100.09651947021484, Runtime: 0.06904 seconds\n",
      "2023/07/31 12:55:23 PM, INFO, mealpy.evolutionary_based.GA.BaseGA: >Problem: P, Epoch: 35, Current best: -100.09651947021484, Global best: -100.09651947021484, Runtime: 0.21938 seconds\n",
      "2023/07/31 12:55:23 PM, INFO, mealpy.evolutionary_based.GA.BaseGA: >Problem: P, Epoch: 36, Current best: -100.09651947021484, Global best: -100.09651947021484, Runtime: 0.12474 seconds\n",
      "2023/07/31 12:55:23 PM, INFO, mealpy.evolutionary_based.GA.BaseGA: >Problem: P, Epoch: 37, Current best: -100.09651947021484, Global best: -100.09651947021484, Runtime: 0.08531 seconds\n",
      "2023/07/31 12:55:23 PM, INFO, mealpy.evolutionary_based.GA.BaseGA: >Problem: P, Epoch: 38, Current best: -100.09651947021484, Global best: -100.09651947021484, Runtime: 0.07787 seconds\n",
      "2023/07/31 12:55:23 PM, INFO, mealpy.evolutionary_based.GA.BaseGA: >Problem: P, Epoch: 39, Current best: -100.09651947021484, Global best: -100.09651947021484, Runtime: 0.07114 seconds\n",
      "2023/07/31 12:55:23 PM, INFO, mealpy.evolutionary_based.GA.BaseGA: >Problem: P, Epoch: 40, Current best: -100.09651947021484, Global best: -100.09651947021484, Runtime: 0.07410 seconds\n",
      "2023/07/31 12:55:23 PM, INFO, mealpy.evolutionary_based.GA.BaseGA: >Problem: P, Epoch: 41, Current best: -100.09651947021484, Global best: -100.09651947021484, Runtime: 0.07059 seconds\n",
      "2023/07/31 12:55:23 PM, INFO, mealpy.evolutionary_based.GA.BaseGA: >Problem: P, Epoch: 42, Current best: -100.09651947021484, Global best: -100.09651947021484, Runtime: 0.07460 seconds\n",
      "2023/07/31 12:55:23 PM, INFO, mealpy.evolutionary_based.GA.BaseGA: >Problem: P, Epoch: 43, Current best: -100.09651947021484, Global best: -100.09651947021484, Runtime: 0.06575 seconds\n",
      "2023/07/31 12:55:24 PM, INFO, mealpy.evolutionary_based.GA.BaseGA: >Problem: P, Epoch: 44, Current best: -100.09651947021484, Global best: -100.09651947021484, Runtime: 0.08387 seconds\n",
      "2023/07/31 12:55:24 PM, INFO, mealpy.evolutionary_based.GA.BaseGA: >Problem: P, Epoch: 45, Current best: -100.09651947021484, Global best: -100.09651947021484, Runtime: 0.06552 seconds\n"
     ]
    },
    {
     "name": "stderr",
     "output_type": "stream",
     "text": [
      "2023/07/31 12:55:24 PM, INFO, mealpy.evolutionary_based.GA.BaseGA: >Problem: P, Epoch: 46, Current best: -100.09651947021484, Global best: -100.09651947021484, Runtime: 0.08169 seconds\n",
      "2023/07/31 12:55:24 PM, INFO, mealpy.evolutionary_based.GA.BaseGA: >Problem: P, Epoch: 47, Current best: -100.09651947021484, Global best: -100.09651947021484, Runtime: 0.07824 seconds\n",
      "2023/07/31 12:55:24 PM, INFO, mealpy.evolutionary_based.GA.BaseGA: >Problem: P, Epoch: 48, Current best: -100.09651947021484, Global best: -100.09651947021484, Runtime: 0.07406 seconds\n",
      "2023/07/31 12:55:24 PM, INFO, mealpy.evolutionary_based.GA.BaseGA: >Problem: P, Epoch: 49, Current best: -100.09651947021484, Global best: -100.09651947021484, Runtime: 0.07620 seconds\n",
      "2023/07/31 12:55:24 PM, INFO, mealpy.evolutionary_based.GA.BaseGA: >Problem: P, Epoch: 50, Current best: -100.09651947021484, Global best: -100.09651947021484, Runtime: 0.07206 seconds\n",
      "2023/07/31 12:55:24 PM, INFO, mealpy.evolutionary_based.GA.BaseGA: >Problem: P, Epoch: 51, Current best: -100.09651947021484, Global best: -100.09651947021484, Runtime: 0.07706 seconds\n",
      "2023/07/31 12:55:24 PM, INFO, mealpy.evolutionary_based.GA.BaseGA: >Problem: P, Epoch: 52, Current best: -100.09651947021484, Global best: -100.09651947021484, Runtime: 0.07402 seconds\n",
      "2023/07/31 12:55:24 PM, INFO, mealpy.evolutionary_based.GA.BaseGA: >Problem: P, Epoch: 53, Current best: -100.09651947021484, Global best: -100.09651947021484, Runtime: 0.09084 seconds\n",
      "2023/07/31 12:55:24 PM, INFO, mealpy.evolutionary_based.GA.BaseGA: >Problem: P, Epoch: 54, Current best: -100.09651947021484, Global best: -100.09651947021484, Runtime: 0.07472 seconds\n",
      "2023/07/31 12:55:24 PM, INFO, mealpy.evolutionary_based.GA.BaseGA: >Problem: P, Epoch: 55, Current best: -100.09651947021484, Global best: -100.09651947021484, Runtime: 0.09049 seconds\n",
      "2023/07/31 12:55:25 PM, INFO, mealpy.evolutionary_based.GA.BaseGA: >Problem: P, Epoch: 56, Current best: -100.09651947021484, Global best: -100.09651947021484, Runtime: 0.09268 seconds\n",
      "2023/07/31 12:55:25 PM, INFO, mealpy.evolutionary_based.GA.BaseGA: >Problem: P, Epoch: 57, Current best: -100.09651947021484, Global best: -100.09651947021484, Runtime: 0.08019 seconds\n",
      "2023/07/31 12:55:25 PM, INFO, mealpy.evolutionary_based.GA.BaseGA: >Problem: P, Epoch: 58, Current best: -100.09651947021484, Global best: -100.09651947021484, Runtime: 0.07524 seconds\n",
      "2023/07/31 12:55:25 PM, INFO, mealpy.evolutionary_based.GA.BaseGA: >Problem: P, Epoch: 59, Current best: -100.09651947021484, Global best: -100.09651947021484, Runtime: 0.07753 seconds\n",
      "2023/07/31 12:55:25 PM, INFO, mealpy.evolutionary_based.GA.BaseGA: >Problem: P, Epoch: 60, Current best: -100.09651947021484, Global best: -100.09651947021484, Runtime: 0.08320 seconds\n",
      "2023/07/31 12:55:25 PM, INFO, mealpy.evolutionary_based.GA.BaseGA: >Problem: P, Epoch: 61, Current best: -100.09651947021484, Global best: -100.09651947021484, Runtime: 0.07835 seconds\n",
      "2023/07/31 12:55:25 PM, INFO, mealpy.evolutionary_based.GA.BaseGA: >Problem: P, Epoch: 62, Current best: -100.09651947021484, Global best: -100.09651947021484, Runtime: 0.07280 seconds\n",
      "2023/07/31 12:55:25 PM, INFO, mealpy.evolutionary_based.GA.BaseGA: >Problem: P, Epoch: 63, Current best: -100.09651947021484, Global best: -100.09651947021484, Runtime: 0.07766 seconds\n",
      "2023/07/31 12:55:25 PM, INFO, mealpy.evolutionary_based.GA.BaseGA: >Problem: P, Epoch: 64, Current best: -100.09651947021484, Global best: -100.09651947021484, Runtime: 0.07816 seconds\n",
      "2023/07/31 12:55:25 PM, INFO, mealpy.evolutionary_based.GA.BaseGA: >Problem: P, Epoch: 65, Current best: -100.09651947021484, Global best: -100.09651947021484, Runtime: 0.09846 seconds\n",
      "2023/07/31 12:55:25 PM, INFO, mealpy.evolutionary_based.GA.BaseGA: >Problem: P, Epoch: 66, Current best: -100.09651947021484, Global best: -100.09651947021484, Runtime: 0.09027 seconds\n",
      "2023/07/31 12:55:25 PM, INFO, mealpy.evolutionary_based.GA.BaseGA: >Problem: P, Epoch: 67, Current best: -100.09651947021484, Global best: -100.09651947021484, Runtime: 0.07918 seconds\n",
      "2023/07/31 12:55:26 PM, INFO, mealpy.evolutionary_based.GA.BaseGA: >Problem: P, Epoch: 68, Current best: -100.09651947021484, Global best: -100.09651947021484, Runtime: 0.07120 seconds\n",
      "2023/07/31 12:55:26 PM, INFO, mealpy.evolutionary_based.GA.BaseGA: >Problem: P, Epoch: 69, Current best: -100.09651947021484, Global best: -100.09651947021484, Runtime: 0.06802 seconds\n",
      "2023/07/31 12:55:26 PM, INFO, mealpy.evolutionary_based.GA.BaseGA: >Problem: P, Epoch: 70, Current best: -100.09651947021484, Global best: -100.09651947021484, Runtime: 0.07208 seconds\n",
      "2023/07/31 12:55:26 PM, INFO, mealpy.evolutionary_based.GA.BaseGA: >Problem: P, Epoch: 71, Current best: -100.09651947021484, Global best: -100.09651947021484, Runtime: 0.06394 seconds\n",
      "2023/07/31 12:55:26 PM, INFO, mealpy.evolutionary_based.GA.BaseGA: >Problem: P, Epoch: 72, Current best: -100.09651947021484, Global best: -100.09651947021484, Runtime: 0.07648 seconds\n",
      "2023/07/31 12:55:26 PM, INFO, mealpy.evolutionary_based.GA.BaseGA: >Problem: P, Epoch: 73, Current best: -100.09651947021484, Global best: -100.09651947021484, Runtime: 0.08339 seconds\n",
      "2023/07/31 12:55:26 PM, INFO, mealpy.evolutionary_based.GA.BaseGA: >Problem: P, Epoch: 74, Current best: -100.09651947021484, Global best: -100.09651947021484, Runtime: 0.07478 seconds\n",
      "2023/07/31 12:55:26 PM, INFO, mealpy.evolutionary_based.GA.BaseGA: >Problem: P, Epoch: 75, Current best: -100.09651947021484, Global best: -100.09651947021484, Runtime: 0.07895 seconds\n",
      "2023/07/31 12:55:26 PM, INFO, mealpy.evolutionary_based.GA.BaseGA: >Problem: P, Epoch: 76, Current best: -100.1073226928711, Global best: -100.1073226928711, Runtime: 0.07794 seconds\n",
      "2023/07/31 12:55:26 PM, INFO, mealpy.evolutionary_based.GA.BaseGA: >Problem: P, Epoch: 77, Current best: -100.1073226928711, Global best: -100.1073226928711, Runtime: 0.06749 seconds\n",
      "2023/07/31 12:55:26 PM, INFO, mealpy.evolutionary_based.GA.BaseGA: >Problem: P, Epoch: 78, Current best: -100.1073226928711, Global best: -100.1073226928711, Runtime: 0.18392 seconds\n",
      "2023/07/31 12:55:27 PM, INFO, mealpy.evolutionary_based.GA.BaseGA: >Problem: P, Epoch: 79, Current best: -100.1073226928711, Global best: -100.1073226928711, Runtime: 0.08660 seconds\n",
      "2023/07/31 12:55:27 PM, INFO, mealpy.evolutionary_based.GA.BaseGA: >Problem: P, Epoch: 80, Current best: -100.1073226928711, Global best: -100.1073226928711, Runtime: 0.06964 seconds\n",
      "2023/07/31 12:55:27 PM, INFO, mealpy.evolutionary_based.GA.BaseGA: >Problem: P, Epoch: 81, Current best: -100.1073226928711, Global best: -100.1073226928711, Runtime: 0.06934 seconds\n",
      "2023/07/31 12:55:27 PM, INFO, mealpy.evolutionary_based.GA.BaseGA: >Problem: P, Epoch: 82, Current best: -100.1073226928711, Global best: -100.1073226928711, Runtime: 0.06638 seconds\n",
      "2023/07/31 12:55:27 PM, INFO, mealpy.evolutionary_based.GA.BaseGA: >Problem: P, Epoch: 83, Current best: -100.1073226928711, Global best: -100.1073226928711, Runtime: 0.08220 seconds\n",
      "2023/07/31 12:55:27 PM, INFO, mealpy.evolutionary_based.GA.BaseGA: >Problem: P, Epoch: 84, Current best: -100.1073226928711, Global best: -100.1073226928711, Runtime: 0.07297 seconds\n",
      "2023/07/31 12:55:27 PM, INFO, mealpy.evolutionary_based.GA.BaseGA: >Problem: P, Epoch: 85, Current best: -100.1073226928711, Global best: -100.1073226928711, Runtime: 0.08136 seconds\n",
      "2023/07/31 12:55:27 PM, INFO, mealpy.evolutionary_based.GA.BaseGA: >Problem: P, Epoch: 86, Current best: -100.1073226928711, Global best: -100.1073226928711, Runtime: 0.08423 seconds\n",
      "2023/07/31 12:55:27 PM, INFO, mealpy.evolutionary_based.GA.BaseGA: >Problem: P, Epoch: 87, Current best: -100.1073226928711, Global best: -100.1073226928711, Runtime: 0.07698 seconds\n",
      "2023/07/31 12:55:27 PM, INFO, mealpy.evolutionary_based.GA.BaseGA: >Problem: P, Epoch: 88, Current best: -100.1073226928711, Global best: -100.1073226928711, Runtime: 0.06984 seconds\n",
      "2023/07/31 12:55:27 PM, INFO, mealpy.evolutionary_based.GA.BaseGA: >Problem: P, Epoch: 89, Current best: -100.1073226928711, Global best: -100.1073226928711, Runtime: 0.08709 seconds\n",
      "2023/07/31 12:55:27 PM, INFO, mealpy.evolutionary_based.GA.BaseGA: >Problem: P, Epoch: 90, Current best: -100.1073226928711, Global best: -100.1073226928711, Runtime: 0.07445 seconds\n"
     ]
    },
    {
     "name": "stderr",
     "output_type": "stream",
     "text": [
      "2023/07/31 12:55:27 PM, INFO, mealpy.evolutionary_based.GA.BaseGA: >Problem: P, Epoch: 91, Current best: -100.1073226928711, Global best: -100.1073226928711, Runtime: 0.07751 seconds\n",
      "2023/07/31 12:55:28 PM, INFO, mealpy.evolutionary_based.GA.BaseGA: >Problem: P, Epoch: 92, Current best: -100.1073226928711, Global best: -100.1073226928711, Runtime: 0.07528 seconds\n",
      "2023/07/31 12:55:28 PM, INFO, mealpy.evolutionary_based.GA.BaseGA: >Problem: P, Epoch: 93, Current best: -100.1073226928711, Global best: -100.1073226928711, Runtime: 0.06855 seconds\n",
      "2023/07/31 12:55:28 PM, INFO, mealpy.evolutionary_based.GA.BaseGA: >Problem: P, Epoch: 94, Current best: -100.1073226928711, Global best: -100.1073226928711, Runtime: 0.06892 seconds\n",
      "2023/07/31 12:55:28 PM, INFO, mealpy.evolutionary_based.GA.BaseGA: >Problem: P, Epoch: 95, Current best: -100.1073226928711, Global best: -100.1073226928711, Runtime: 0.06687 seconds\n",
      "2023/07/31 12:55:28 PM, INFO, mealpy.evolutionary_based.GA.BaseGA: >Problem: P, Epoch: 96, Current best: -100.1073226928711, Global best: -100.1073226928711, Runtime: 0.07878 seconds\n",
      "2023/07/31 12:55:28 PM, INFO, mealpy.evolutionary_based.GA.BaseGA: >Problem: P, Epoch: 97, Current best: -100.10916137695312, Global best: -100.10916137695312, Runtime: 0.06909 seconds\n",
      "2023/07/31 12:55:28 PM, INFO, mealpy.evolutionary_based.GA.BaseGA: >Problem: P, Epoch: 98, Current best: -100.10916137695312, Global best: -100.10916137695312, Runtime: 0.13524 seconds\n",
      "2023/07/31 12:55:28 PM, INFO, mealpy.evolutionary_based.GA.BaseGA: >Problem: P, Epoch: 99, Current best: -100.10916137695312, Global best: -100.10916137695312, Runtime: 0.07180 seconds\n",
      "2023/07/31 12:55:28 PM, INFO, mealpy.evolutionary_based.GA.BaseGA: >Problem: P, Epoch: 100, Current best: -100.10916137695312, Global best: -100.10916137695312, Runtime: 0.07067 seconds\n"
     ]
    }
   ],
   "source": [
    "best_position_mrfo, best_fitness_mrfo = model.solve(problem_dict1)"
   ]
  },
  {
   "cell_type": "code",
   "execution_count": 26,
   "id": "2948bf2d",
   "metadata": {},
   "outputs": [
    {
     "name": "stdout",
     "output_type": "stream",
     "text": [
      "Best Solution:\n",
      "X1: 40.194459688494874\n",
      "X2: 1.0103432028528099\n",
      "X3: 149.8346653430686\n",
      "X4: 6.007222301592587\n",
      "Best Fitness: 100.10916137695312\n"
     ]
    }
   ],
   "source": [
    "print(\"Best Solution:\")\n",
    "print(\"X1:\", best_position_mrfo[0])\n",
    "print(\"X2:\", best_position_mrfo[1])\n",
    "print(\"X3:\", best_position_mrfo[2])\n",
    "print(\"X4:\", best_position_mrfo[3])\n",
    "print(\"Best Fitness:\", -best_fitness_mrfo)  # Convert back to positive as it was negated for maximization"
   ]
  },
  {
   "cell_type": "code",
   "execution_count": null,
   "id": "c69f83f3",
   "metadata": {},
   "outputs": [],
   "source": []
  },
  {
   "cell_type": "code",
   "execution_count": null,
   "id": "256818aa",
   "metadata": {},
   "outputs": [],
   "source": []
  },
  {
   "cell_type": "markdown",
   "id": "7a82fae2",
   "metadata": {},
   "source": [
    "## SCSO-sand cat swarm optimization"
   ]
  },
  {
   "cell_type": "code",
   "execution_count": 27,
   "id": "341621b7",
   "metadata": {},
   "outputs": [],
   "source": [
    "from mealpy.swarm_based.SCSO import OriginalSCSO"
   ]
  },
  {
   "cell_type": "code",
   "execution_count": 28,
   "id": "093229bd",
   "metadata": {},
   "outputs": [],
   "source": [
    "epoch = 100\n",
    "pop_size = 50"
   ]
  },
  {
   "cell_type": "code",
   "execution_count": 29,
   "id": "b954b5ec",
   "metadata": {},
   "outputs": [],
   "source": [
    "model_scso = OriginalSCSO(epoch, pop_size)"
   ]
  },
  {
   "cell_type": "code",
   "execution_count": 30,
   "id": "2faf3ae4",
   "metadata": {},
   "outputs": [
    {
     "name": "stderr",
     "output_type": "stream",
     "text": [
      "2023/07/31 12:56:41 PM, INFO, mealpy.evolutionary_based.GA.BaseGA: Solving single objective optimization problem.\n",
      "2023/07/31 12:56:41 PM, INFO, mealpy.evolutionary_based.GA.BaseGA: >Problem: P, Epoch: 1, Current best: -95.66607666015625, Global best: -95.66607666015625, Runtime: 0.09798 seconds\n",
      "2023/07/31 12:56:41 PM, INFO, mealpy.evolutionary_based.GA.BaseGA: >Problem: P, Epoch: 2, Current best: -95.66607666015625, Global best: -95.66607666015625, Runtime: 0.06447 seconds\n",
      "2023/07/31 12:56:41 PM, INFO, mealpy.evolutionary_based.GA.BaseGA: >Problem: P, Epoch: 3, Current best: -95.68460083007812, Global best: -95.68460083007812, Runtime: 0.08377 seconds\n",
      "2023/07/31 12:56:41 PM, INFO, mealpy.evolutionary_based.GA.BaseGA: >Problem: P, Epoch: 4, Current best: -97.69871520996094, Global best: -97.69871520996094, Runtime: 0.06511 seconds\n",
      "2023/07/31 12:56:41 PM, INFO, mealpy.evolutionary_based.GA.BaseGA: >Problem: P, Epoch: 5, Current best: -97.69871520996094, Global best: -97.69871520996094, Runtime: 0.08506 seconds\n",
      "2023/07/31 12:56:42 PM, INFO, mealpy.evolutionary_based.GA.BaseGA: >Problem: P, Epoch: 6, Current best: -98.7958984375, Global best: -98.7958984375, Runtime: 0.07847 seconds\n",
      "2023/07/31 12:56:42 PM, INFO, mealpy.evolutionary_based.GA.BaseGA: >Problem: P, Epoch: 7, Current best: -98.7958984375, Global best: -98.7958984375, Runtime: 0.08256 seconds\n",
      "2023/07/31 12:56:42 PM, INFO, mealpy.evolutionary_based.GA.BaseGA: >Problem: P, Epoch: 8, Current best: -98.7958984375, Global best: -98.7958984375, Runtime: 0.08949 seconds\n",
      "2023/07/31 12:56:42 PM, INFO, mealpy.evolutionary_based.GA.BaseGA: >Problem: P, Epoch: 9, Current best: -98.7958984375, Global best: -98.7958984375, Runtime: 0.07723 seconds\n",
      "2023/07/31 12:56:42 PM, INFO, mealpy.evolutionary_based.GA.BaseGA: >Problem: P, Epoch: 10, Current best: -98.7958984375, Global best: -98.7958984375, Runtime: 0.08941 seconds\n",
      "2023/07/31 12:56:42 PM, INFO, mealpy.evolutionary_based.GA.BaseGA: >Problem: P, Epoch: 11, Current best: -98.8398666381836, Global best: -98.8398666381836, Runtime: 0.08091 seconds\n",
      "2023/07/31 12:56:42 PM, INFO, mealpy.evolutionary_based.GA.BaseGA: >Problem: P, Epoch: 12, Current best: -98.8398666381836, Global best: -98.8398666381836, Runtime: 0.07783 seconds\n",
      "2023/07/31 12:56:42 PM, INFO, mealpy.evolutionary_based.GA.BaseGA: >Problem: P, Epoch: 13, Current best: -98.8398666381836, Global best: -98.8398666381836, Runtime: 0.10720 seconds\n",
      "2023/07/31 12:56:42 PM, INFO, mealpy.evolutionary_based.GA.BaseGA: >Problem: P, Epoch: 14, Current best: -98.8398666381836, Global best: -98.8398666381836, Runtime: 0.09779 seconds\n",
      "2023/07/31 12:56:42 PM, INFO, mealpy.evolutionary_based.GA.BaseGA: >Problem: P, Epoch: 15, Current best: -99.04792785644531, Global best: -99.04792785644531, Runtime: 0.08832 seconds\n",
      "2023/07/31 12:56:42 PM, INFO, mealpy.evolutionary_based.GA.BaseGA: >Problem: P, Epoch: 16, Current best: -99.35131072998047, Global best: -99.35131072998047, Runtime: 0.07771 seconds\n",
      "2023/07/31 12:56:43 PM, INFO, mealpy.evolutionary_based.GA.BaseGA: >Problem: P, Epoch: 17, Current best: -99.56204986572266, Global best: -99.56204986572266, Runtime: 0.10055 seconds\n",
      "2023/07/31 12:56:43 PM, INFO, mealpy.evolutionary_based.GA.BaseGA: >Problem: P, Epoch: 18, Current best: -99.56204986572266, Global best: -99.56204986572266, Runtime: 0.08289 seconds\n",
      "2023/07/31 12:56:43 PM, INFO, mealpy.evolutionary_based.GA.BaseGA: >Problem: P, Epoch: 19, Current best: -99.56204986572266, Global best: -99.56204986572266, Runtime: 0.08019 seconds\n",
      "2023/07/31 12:56:43 PM, INFO, mealpy.evolutionary_based.GA.BaseGA: >Problem: P, Epoch: 20, Current best: -99.56204986572266, Global best: -99.56204986572266, Runtime: 0.07794 seconds\n",
      "2023/07/31 12:56:43 PM, INFO, mealpy.evolutionary_based.GA.BaseGA: >Problem: P, Epoch: 21, Current best: -99.56204986572266, Global best: -99.56204986572266, Runtime: 0.08182 seconds\n",
      "2023/07/31 12:56:43 PM, INFO, mealpy.evolutionary_based.GA.BaseGA: >Problem: P, Epoch: 22, Current best: -99.99870300292969, Global best: -99.99870300292969, Runtime: 0.07681 seconds\n",
      "2023/07/31 12:56:43 PM, INFO, mealpy.evolutionary_based.GA.BaseGA: >Problem: P, Epoch: 23, Current best: -99.99870300292969, Global best: -99.99870300292969, Runtime: 0.07289 seconds\n",
      "2023/07/31 12:56:43 PM, INFO, mealpy.evolutionary_based.GA.BaseGA: >Problem: P, Epoch: 24, Current best: -100.02540588378906, Global best: -100.02540588378906, Runtime: 0.07644 seconds\n",
      "2023/07/31 12:56:43 PM, INFO, mealpy.evolutionary_based.GA.BaseGA: >Problem: P, Epoch: 25, Current best: -100.02540588378906, Global best: -100.02540588378906, Runtime: 0.09234 seconds\n",
      "2023/07/31 12:56:43 PM, INFO, mealpy.evolutionary_based.GA.BaseGA: >Problem: P, Epoch: 26, Current best: -100.02540588378906, Global best: -100.02540588378906, Runtime: 0.11336 seconds\n",
      "2023/07/31 12:56:43 PM, INFO, mealpy.evolutionary_based.GA.BaseGA: >Problem: P, Epoch: 27, Current best: -100.02540588378906, Global best: -100.02540588378906, Runtime: 0.09195 seconds\n",
      "2023/07/31 12:56:44 PM, INFO, mealpy.evolutionary_based.GA.BaseGA: >Problem: P, Epoch: 28, Current best: -100.02540588378906, Global best: -100.02540588378906, Runtime: 0.07400 seconds\n",
      "2023/07/31 12:56:44 PM, INFO, mealpy.evolutionary_based.GA.BaseGA: >Problem: P, Epoch: 29, Current best: -100.0635757446289, Global best: -100.0635757446289, Runtime: 0.07890 seconds\n",
      "2023/07/31 12:56:44 PM, INFO, mealpy.evolutionary_based.GA.BaseGA: >Problem: P, Epoch: 30, Current best: -100.09207916259766, Global best: -100.09207916259766, Runtime: 0.08095 seconds\n",
      "2023/07/31 12:56:44 PM, INFO, mealpy.evolutionary_based.GA.BaseGA: >Problem: P, Epoch: 31, Current best: -100.09207916259766, Global best: -100.09207916259766, Runtime: 0.08098 seconds\n",
      "2023/07/31 12:56:44 PM, INFO, mealpy.evolutionary_based.GA.BaseGA: >Problem: P, Epoch: 32, Current best: -100.09207916259766, Global best: -100.09207916259766, Runtime: 0.07187 seconds\n",
      "2023/07/31 12:56:44 PM, INFO, mealpy.evolutionary_based.GA.BaseGA: >Problem: P, Epoch: 33, Current best: -100.09207916259766, Global best: -100.09207916259766, Runtime: 0.08873 seconds\n",
      "2023/07/31 12:56:44 PM, INFO, mealpy.evolutionary_based.GA.BaseGA: >Problem: P, Epoch: 34, Current best: -100.09207916259766, Global best: -100.09207916259766, Runtime: 0.07798 seconds\n",
      "2023/07/31 12:56:44 PM, INFO, mealpy.evolutionary_based.GA.BaseGA: >Problem: P, Epoch: 35, Current best: -100.09207916259766, Global best: -100.09207916259766, Runtime: 0.07063 seconds\n",
      "2023/07/31 12:56:44 PM, INFO, mealpy.evolutionary_based.GA.BaseGA: >Problem: P, Epoch: 36, Current best: -100.09207916259766, Global best: -100.09207916259766, Runtime: 0.09914 seconds\n",
      "2023/07/31 12:56:44 PM, INFO, mealpy.evolutionary_based.GA.BaseGA: >Problem: P, Epoch: 37, Current best: -100.13246154785156, Global best: -100.13246154785156, Runtime: 0.07197 seconds\n",
      "2023/07/31 12:56:44 PM, INFO, mealpy.evolutionary_based.GA.BaseGA: >Problem: P, Epoch: 38, Current best: -100.13246154785156, Global best: -100.13246154785156, Runtime: 0.07504 seconds\n",
      "2023/07/31 12:56:44 PM, INFO, mealpy.evolutionary_based.GA.BaseGA: >Problem: P, Epoch: 39, Current best: -100.13246154785156, Global best: -100.13246154785156, Runtime: 0.07432 seconds\n",
      "2023/07/31 12:56:44 PM, INFO, mealpy.evolutionary_based.GA.BaseGA: >Problem: P, Epoch: 40, Current best: -100.13246154785156, Global best: -100.13246154785156, Runtime: 0.06488 seconds\n",
      "2023/07/31 12:56:45 PM, INFO, mealpy.evolutionary_based.GA.BaseGA: >Problem: P, Epoch: 41, Current best: -100.13246154785156, Global best: -100.13246154785156, Runtime: 0.08706 seconds\n",
      "2023/07/31 12:56:45 PM, INFO, mealpy.evolutionary_based.GA.BaseGA: >Problem: P, Epoch: 42, Current best: -100.13246154785156, Global best: -100.13246154785156, Runtime: 0.06931 seconds\n",
      "2023/07/31 12:56:45 PM, INFO, mealpy.evolutionary_based.GA.BaseGA: >Problem: P, Epoch: 43, Current best: -100.13246154785156, Global best: -100.13246154785156, Runtime: 0.07731 seconds\n",
      "2023/07/31 12:56:45 PM, INFO, mealpy.evolutionary_based.GA.BaseGA: >Problem: P, Epoch: 44, Current best: -100.13246154785156, Global best: -100.13246154785156, Runtime: 0.08036 seconds\n",
      "2023/07/31 12:56:45 PM, INFO, mealpy.evolutionary_based.GA.BaseGA: >Problem: P, Epoch: 45, Current best: -100.13246154785156, Global best: -100.13246154785156, Runtime: 0.07332 seconds\n"
     ]
    },
    {
     "name": "stderr",
     "output_type": "stream",
     "text": [
      "2023/07/31 12:56:45 PM, INFO, mealpy.evolutionary_based.GA.BaseGA: >Problem: P, Epoch: 46, Current best: -100.13246154785156, Global best: -100.13246154785156, Runtime: 0.08138 seconds\n",
      "2023/07/31 12:56:45 PM, INFO, mealpy.evolutionary_based.GA.BaseGA: >Problem: P, Epoch: 47, Current best: -100.13246154785156, Global best: -100.13246154785156, Runtime: 0.07710 seconds\n",
      "2023/07/31 12:56:45 PM, INFO, mealpy.evolutionary_based.GA.BaseGA: >Problem: P, Epoch: 48, Current best: -100.13246154785156, Global best: -100.13246154785156, Runtime: 0.07077 seconds\n",
      "2023/07/31 12:56:45 PM, INFO, mealpy.evolutionary_based.GA.BaseGA: >Problem: P, Epoch: 49, Current best: -100.13246154785156, Global best: -100.13246154785156, Runtime: 0.06846 seconds\n",
      "2023/07/31 12:56:45 PM, INFO, mealpy.evolutionary_based.GA.BaseGA: >Problem: P, Epoch: 50, Current best: -100.13246154785156, Global best: -100.13246154785156, Runtime: 0.07177 seconds\n",
      "2023/07/31 12:56:45 PM, INFO, mealpy.evolutionary_based.GA.BaseGA: >Problem: P, Epoch: 51, Current best: -100.14452362060547, Global best: -100.14452362060547, Runtime: 0.07175 seconds\n",
      "2023/07/31 12:56:45 PM, INFO, mealpy.evolutionary_based.GA.BaseGA: >Problem: P, Epoch: 52, Current best: -100.14452362060547, Global best: -100.14452362060547, Runtime: 0.08116 seconds\n",
      "2023/07/31 12:56:46 PM, INFO, mealpy.evolutionary_based.GA.BaseGA: >Problem: P, Epoch: 53, Current best: -100.14452362060547, Global best: -100.14452362060547, Runtime: 0.10589 seconds\n",
      "2023/07/31 12:56:46 PM, INFO, mealpy.evolutionary_based.GA.BaseGA: >Problem: P, Epoch: 54, Current best: -100.14452362060547, Global best: -100.14452362060547, Runtime: 0.11212 seconds\n",
      "2023/07/31 12:56:46 PM, INFO, mealpy.evolutionary_based.GA.BaseGA: >Problem: P, Epoch: 55, Current best: -100.14452362060547, Global best: -100.14452362060547, Runtime: 0.08646 seconds\n",
      "2023/07/31 12:56:46 PM, INFO, mealpy.evolutionary_based.GA.BaseGA: >Problem: P, Epoch: 56, Current best: -100.14452362060547, Global best: -100.14452362060547, Runtime: 0.07459 seconds\n",
      "2023/07/31 12:56:46 PM, INFO, mealpy.evolutionary_based.GA.BaseGA: >Problem: P, Epoch: 57, Current best: -100.14452362060547, Global best: -100.14452362060547, Runtime: 0.07519 seconds\n",
      "2023/07/31 12:56:46 PM, INFO, mealpy.evolutionary_based.GA.BaseGA: >Problem: P, Epoch: 58, Current best: -100.14452362060547, Global best: -100.14452362060547, Runtime: 0.07246 seconds\n",
      "2023/07/31 12:56:46 PM, INFO, mealpy.evolutionary_based.GA.BaseGA: >Problem: P, Epoch: 59, Current best: -100.14452362060547, Global best: -100.14452362060547, Runtime: 0.07681 seconds\n",
      "2023/07/31 12:56:46 PM, INFO, mealpy.evolutionary_based.GA.BaseGA: >Problem: P, Epoch: 60, Current best: -100.14452362060547, Global best: -100.14452362060547, Runtime: 0.07784 seconds\n",
      "2023/07/31 12:56:46 PM, INFO, mealpy.evolutionary_based.GA.BaseGA: >Problem: P, Epoch: 61, Current best: -100.14452362060547, Global best: -100.14452362060547, Runtime: 0.07087 seconds\n",
      "2023/07/31 12:56:46 PM, INFO, mealpy.evolutionary_based.GA.BaseGA: >Problem: P, Epoch: 62, Current best: -100.14452362060547, Global best: -100.14452362060547, Runtime: 0.06516 seconds\n",
      "2023/07/31 12:56:46 PM, INFO, mealpy.evolutionary_based.GA.BaseGA: >Problem: P, Epoch: 63, Current best: -100.14452362060547, Global best: -100.14452362060547, Runtime: 0.07877 seconds\n",
      "2023/07/31 12:56:46 PM, INFO, mealpy.evolutionary_based.GA.BaseGA: >Problem: P, Epoch: 64, Current best: -100.14452362060547, Global best: -100.14452362060547, Runtime: 0.06919 seconds\n",
      "2023/07/31 12:56:47 PM, INFO, mealpy.evolutionary_based.GA.BaseGA: >Problem: P, Epoch: 65, Current best: -100.14452362060547, Global best: -100.14452362060547, Runtime: 0.06976 seconds\n",
      "2023/07/31 12:56:47 PM, INFO, mealpy.evolutionary_based.GA.BaseGA: >Problem: P, Epoch: 66, Current best: -100.14452362060547, Global best: -100.14452362060547, Runtime: 0.07571 seconds\n",
      "2023/07/31 12:56:47 PM, INFO, mealpy.evolutionary_based.GA.BaseGA: >Problem: P, Epoch: 67, Current best: -100.14452362060547, Global best: -100.14452362060547, Runtime: 0.07022 seconds\n",
      "2023/07/31 12:56:47 PM, INFO, mealpy.evolutionary_based.GA.BaseGA: >Problem: P, Epoch: 68, Current best: -100.14452362060547, Global best: -100.14452362060547, Runtime: 0.06528 seconds\n",
      "2023/07/31 12:56:47 PM, INFO, mealpy.evolutionary_based.GA.BaseGA: >Problem: P, Epoch: 69, Current best: -100.14452362060547, Global best: -100.14452362060547, Runtime: 0.08093 seconds\n",
      "2023/07/31 12:56:47 PM, INFO, mealpy.evolutionary_based.GA.BaseGA: >Problem: P, Epoch: 70, Current best: -100.14452362060547, Global best: -100.14452362060547, Runtime: 0.07894 seconds\n",
      "2023/07/31 12:56:47 PM, INFO, mealpy.evolutionary_based.GA.BaseGA: >Problem: P, Epoch: 71, Current best: -100.14452362060547, Global best: -100.14452362060547, Runtime: 0.08741 seconds\n",
      "2023/07/31 12:56:47 PM, INFO, mealpy.evolutionary_based.GA.BaseGA: >Problem: P, Epoch: 72, Current best: -100.14452362060547, Global best: -100.14452362060547, Runtime: 0.09042 seconds\n",
      "2023/07/31 12:56:47 PM, INFO, mealpy.evolutionary_based.GA.BaseGA: >Problem: P, Epoch: 73, Current best: -100.14452362060547, Global best: -100.14452362060547, Runtime: 0.09416 seconds\n",
      "2023/07/31 12:56:47 PM, INFO, mealpy.evolutionary_based.GA.BaseGA: >Problem: P, Epoch: 74, Current best: -100.14452362060547, Global best: -100.14452362060547, Runtime: 0.09484 seconds\n",
      "2023/07/31 12:56:47 PM, INFO, mealpy.evolutionary_based.GA.BaseGA: >Problem: P, Epoch: 75, Current best: -100.14452362060547, Global best: -100.14452362060547, Runtime: 0.09607 seconds\n",
      "2023/07/31 12:56:47 PM, INFO, mealpy.evolutionary_based.GA.BaseGA: >Problem: P, Epoch: 76, Current best: -100.14452362060547, Global best: -100.14452362060547, Runtime: 0.08666 seconds\n",
      "2023/07/31 12:56:48 PM, INFO, mealpy.evolutionary_based.GA.BaseGA: >Problem: P, Epoch: 77, Current best: -100.14452362060547, Global best: -100.14452362060547, Runtime: 0.09386 seconds\n",
      "2023/07/31 12:56:48 PM, INFO, mealpy.evolutionary_based.GA.BaseGA: >Problem: P, Epoch: 78, Current best: -100.14452362060547, Global best: -100.14452362060547, Runtime: 0.10083 seconds\n",
      "2023/07/31 12:56:48 PM, INFO, mealpy.evolutionary_based.GA.BaseGA: >Problem: P, Epoch: 79, Current best: -100.14452362060547, Global best: -100.14452362060547, Runtime: 0.09486 seconds\n",
      "2023/07/31 12:56:48 PM, INFO, mealpy.evolutionary_based.GA.BaseGA: >Problem: P, Epoch: 80, Current best: -100.14452362060547, Global best: -100.14452362060547, Runtime: 0.09253 seconds\n",
      "2023/07/31 12:56:48 PM, INFO, mealpy.evolutionary_based.GA.BaseGA: >Problem: P, Epoch: 81, Current best: -100.14452362060547, Global best: -100.14452362060547, Runtime: 0.07247 seconds\n",
      "2023/07/31 12:56:48 PM, INFO, mealpy.evolutionary_based.GA.BaseGA: >Problem: P, Epoch: 82, Current best: -100.14452362060547, Global best: -100.14452362060547, Runtime: 0.06493 seconds\n",
      "2023/07/31 12:56:48 PM, INFO, mealpy.evolutionary_based.GA.BaseGA: >Problem: P, Epoch: 83, Current best: -100.14452362060547, Global best: -100.14452362060547, Runtime: 0.07747 seconds\n",
      "2023/07/31 12:56:48 PM, INFO, mealpy.evolutionary_based.GA.BaseGA: >Problem: P, Epoch: 84, Current best: -100.14452362060547, Global best: -100.14452362060547, Runtime: 0.08390 seconds\n",
      "2023/07/31 12:56:48 PM, INFO, mealpy.evolutionary_based.GA.BaseGA: >Problem: P, Epoch: 85, Current best: -100.14452362060547, Global best: -100.14452362060547, Runtime: 0.07754 seconds\n",
      "2023/07/31 12:56:48 PM, INFO, mealpy.evolutionary_based.GA.BaseGA: >Problem: P, Epoch: 86, Current best: -100.14452362060547, Global best: -100.14452362060547, Runtime: 0.07861 seconds\n",
      "2023/07/31 12:56:48 PM, INFO, mealpy.evolutionary_based.GA.BaseGA: >Problem: P, Epoch: 87, Current best: -100.14452362060547, Global best: -100.14452362060547, Runtime: 0.07658 seconds\n",
      "2023/07/31 12:56:49 PM, INFO, mealpy.evolutionary_based.GA.BaseGA: >Problem: P, Epoch: 88, Current best: -100.14452362060547, Global best: -100.14452362060547, Runtime: 0.07549 seconds\n",
      "2023/07/31 12:56:49 PM, INFO, mealpy.evolutionary_based.GA.BaseGA: >Problem: P, Epoch: 89, Current best: -100.14452362060547, Global best: -100.14452362060547, Runtime: 0.07526 seconds\n",
      "2023/07/31 12:56:49 PM, INFO, mealpy.evolutionary_based.GA.BaseGA: >Problem: P, Epoch: 90, Current best: -100.1471939086914, Global best: -100.1471939086914, Runtime: 0.07048 seconds\n"
     ]
    },
    {
     "name": "stderr",
     "output_type": "stream",
     "text": [
      "2023/07/31 12:56:49 PM, INFO, mealpy.evolutionary_based.GA.BaseGA: >Problem: P, Epoch: 91, Current best: -100.1471939086914, Global best: -100.1471939086914, Runtime: 0.07236 seconds\n",
      "2023/07/31 12:56:49 PM, INFO, mealpy.evolutionary_based.GA.BaseGA: >Problem: P, Epoch: 92, Current best: -100.1471939086914, Global best: -100.1471939086914, Runtime: 0.07906 seconds\n",
      "2023/07/31 12:56:49 PM, INFO, mealpy.evolutionary_based.GA.BaseGA: >Problem: P, Epoch: 93, Current best: -100.1471939086914, Global best: -100.1471939086914, Runtime: 0.06511 seconds\n",
      "2023/07/31 12:56:49 PM, INFO, mealpy.evolutionary_based.GA.BaseGA: >Problem: P, Epoch: 94, Current best: -100.1471939086914, Global best: -100.1471939086914, Runtime: 0.07749 seconds\n",
      "2023/07/31 12:56:49 PM, INFO, mealpy.evolutionary_based.GA.BaseGA: >Problem: P, Epoch: 95, Current best: -100.1471939086914, Global best: -100.1471939086914, Runtime: 0.07333 seconds\n",
      "2023/07/31 12:56:49 PM, INFO, mealpy.evolutionary_based.GA.BaseGA: >Problem: P, Epoch: 96, Current best: -100.1471939086914, Global best: -100.1471939086914, Runtime: 0.07043 seconds\n",
      "2023/07/31 12:56:49 PM, INFO, mealpy.evolutionary_based.GA.BaseGA: >Problem: P, Epoch: 97, Current best: -100.1471939086914, Global best: -100.1471939086914, Runtime: 0.06948 seconds\n",
      "2023/07/31 12:56:49 PM, INFO, mealpy.evolutionary_based.GA.BaseGA: >Problem: P, Epoch: 98, Current best: -100.1471939086914, Global best: -100.1471939086914, Runtime: 0.07511 seconds\n",
      "2023/07/31 12:56:49 PM, INFO, mealpy.evolutionary_based.GA.BaseGA: >Problem: P, Epoch: 99, Current best: -100.1471939086914, Global best: -100.1471939086914, Runtime: 0.06922 seconds\n",
      "2023/07/31 12:56:49 PM, INFO, mealpy.evolutionary_based.GA.BaseGA: >Problem: P, Epoch: 100, Current best: -100.1471939086914, Global best: -100.1471939086914, Runtime: 0.07275 seconds\n"
     ]
    }
   ],
   "source": [
    "best_position_scso, best_fitness_scso = model.solve(problem_dict1)"
   ]
  },
  {
   "cell_type": "code",
   "execution_count": 31,
   "id": "19e2dd44",
   "metadata": {},
   "outputs": [
    {
     "name": "stdout",
     "output_type": "stream",
     "text": [
      "Best Solution:\n",
      "X1: 40.03514346977521\n",
      "X2: 1.0020537372667815\n",
      "X3: 149.95725144477993\n",
      "X4: 6.019277831887508\n",
      "Best Fitness: 100.1471939086914\n"
     ]
    }
   ],
   "source": [
    "print(\"Best Solution:\")\n",
    "print(\"X1:\", best_position_scso[0])\n",
    "print(\"X2:\", best_position_scso[1])\n",
    "print(\"X3:\", best_position_scso[2])\n",
    "print(\"X4:\", best_position_scso[3])\n",
    "print(\"Best Fitness:\", -best_fitness_scso)  # Convert back to positive as it was negated for maximization"
   ]
  },
  {
   "cell_type": "code",
   "execution_count": null,
   "id": "14d500fb",
   "metadata": {},
   "outputs": [],
   "source": []
  }
 ],
 "metadata": {
  "kernelspec": {
   "display_name": "Python 3 (ipykernel)",
   "language": "python",
   "name": "python3"
  },
  "language_info": {
   "codemirror_mode": {
    "name": "ipython",
    "version": 3
   },
   "file_extension": ".py",
   "mimetype": "text/x-python",
   "name": "python",
   "nbconvert_exporter": "python",
   "pygments_lexer": "ipython3",
   "version": "3.9.13"
  }
 },
 "nbformat": 4,
 "nbformat_minor": 5
}
